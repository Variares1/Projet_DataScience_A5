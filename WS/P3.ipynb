{
 "cells": [
  {
   "cell_type": "code",
   "execution_count": 3,
   "metadata": {
    "collapsed": true
   },
   "outputs": [
    {
     "ename": "RuntimeError",
     "evalue": "You must compile your model before training/testing. Use `model.compile(optimizer, loss)`.",
     "output_type": "error",
     "traceback": [
      "\u001B[1;31m---------------------------------------------------------------------------\u001B[0m",
      "\u001B[1;31mRuntimeError\u001B[0m                              Traceback (most recent call last)",
      "\u001B[1;32m~\\AppData\\Local\\Temp/ipykernel_2220/3562983671.py\u001B[0m in \u001B[0;36m<module>\u001B[1;34m\u001B[0m\n\u001B[0;32m     13\u001B[0m \u001B[1;33m\u001B[0m\u001B[0m\n\u001B[0;32m     14\u001B[0m \u001B[0mdecoder\u001B[0m \u001B[1;33m=\u001B[0m \u001B[0mkeras\u001B[0m\u001B[1;33m.\u001B[0m\u001B[0mModel\u001B[0m\u001B[1;33m(\u001B[0m\u001B[0mencoded_input\u001B[0m\u001B[1;33m,\u001B[0m \u001B[0mdecoder_layer\u001B[0m\u001B[1;33m(\u001B[0m\u001B[0mencoded_input\u001B[0m\u001B[1;33m)\u001B[0m\u001B[1;33m)\u001B[0m\u001B[1;33m\u001B[0m\u001B[1;33m\u001B[0m\u001B[0m\n\u001B[1;32m---> 15\u001B[1;33m \u001B[0mauto_encoder\u001B[0m\u001B[1;33m.\u001B[0m\u001B[0mfit\u001B[0m\u001B[1;33m(\u001B[0m\u001B[1;33m)\u001B[0m\u001B[1;33m\u001B[0m\u001B[1;33m\u001B[0m\u001B[0m\n\u001B[0m",
      "\u001B[1;32m~\\PycharmProjects\\DataScience\\venv\\lib\\site-packages\\keras\\engine\\training.py\u001B[0m in \u001B[0;36mfit\u001B[1;34m(self, x, y, batch_size, epochs, verbose, callbacks, validation_split, validation_data, shuffle, class_weight, sample_weight, initial_epoch, steps_per_epoch, validation_steps, validation_batch_size, validation_freq, max_queue_size, workers, use_multiprocessing)\u001B[0m\n\u001B[0;32m   1104\u001B[0m     \u001B[1;31m# Legacy graph support is contained in `training_v1.Model`.\u001B[0m\u001B[1;33m\u001B[0m\u001B[1;33m\u001B[0m\u001B[1;33m\u001B[0m\u001B[0m\n\u001B[0;32m   1105\u001B[0m     \u001B[0mversion_utils\u001B[0m\u001B[1;33m.\u001B[0m\u001B[0mdisallow_legacy_graph\u001B[0m\u001B[1;33m(\u001B[0m\u001B[1;34m'Model'\u001B[0m\u001B[1;33m,\u001B[0m \u001B[1;34m'fit'\u001B[0m\u001B[1;33m)\u001B[0m\u001B[1;33m\u001B[0m\u001B[1;33m\u001B[0m\u001B[0m\n\u001B[1;32m-> 1106\u001B[1;33m     \u001B[0mself\u001B[0m\u001B[1;33m.\u001B[0m\u001B[0m_assert_compile_was_called\u001B[0m\u001B[1;33m(\u001B[0m\u001B[1;33m)\u001B[0m\u001B[1;33m\u001B[0m\u001B[1;33m\u001B[0m\u001B[0m\n\u001B[0m\u001B[0;32m   1107\u001B[0m     \u001B[0mself\u001B[0m\u001B[1;33m.\u001B[0m\u001B[0m_check_call_args\u001B[0m\u001B[1;33m(\u001B[0m\u001B[1;34m'fit'\u001B[0m\u001B[1;33m)\u001B[0m\u001B[1;33m\u001B[0m\u001B[1;33m\u001B[0m\u001B[0m\n\u001B[0;32m   1108\u001B[0m     \u001B[0m_disallow_inside_tf_function\u001B[0m\u001B[1;33m(\u001B[0m\u001B[1;34m'fit'\u001B[0m\u001B[1;33m)\u001B[0m\u001B[1;33m\u001B[0m\u001B[1;33m\u001B[0m\u001B[0m\n",
      "\u001B[1;32m~\\PycharmProjects\\DataScience\\venv\\lib\\site-packages\\keras\\engine\\training.py\u001B[0m in \u001B[0;36m_assert_compile_was_called\u001B[1;34m(self)\u001B[0m\n\u001B[0;32m   2788\u001B[0m     \u001B[1;31m# (i.e. whether the model is built and its inputs/outputs are set).\u001B[0m\u001B[1;33m\u001B[0m\u001B[1;33m\u001B[0m\u001B[1;33m\u001B[0m\u001B[0m\n\u001B[0;32m   2789\u001B[0m     \u001B[1;32mif\u001B[0m \u001B[1;32mnot\u001B[0m \u001B[0mself\u001B[0m\u001B[1;33m.\u001B[0m\u001B[0m_is_compiled\u001B[0m\u001B[1;33m:\u001B[0m\u001B[1;33m\u001B[0m\u001B[1;33m\u001B[0m\u001B[0m\n\u001B[1;32m-> 2790\u001B[1;33m       raise RuntimeError('You must compile your model before '\n\u001B[0m\u001B[0;32m   2791\u001B[0m                          \u001B[1;34m'training/testing. '\u001B[0m\u001B[1;33m\u001B[0m\u001B[1;33m\u001B[0m\u001B[0m\n\u001B[0;32m   2792\u001B[0m                          'Use `model.compile(optimizer, loss)`.')\n",
      "\u001B[1;31mRuntimeError\u001B[0m: You must compile your model before training/testing. Use `model.compile(optimizer, loss)`."
     ]
    }
   ],
   "source": [
    "import keras\n",
    "from keras import layers\n",
    "import tensorflow as tf\n",
    "\n",
    "encoding_dim = 5\n",
    "input_img = keras.Input(shape=(180,))\n",
    "modelEncoded = tf.keras.Sequential([\n",
    "    layers.Conv2D(128,[3,3], activation='relu'),\n",
    "    layers.Conv2D(64,[3,3], activation='relu'),\n",
    "    layers.Conv2D(32,[3,3], activation='relu'),\n",
    "    layers.Conv2D(16,[3,3], activation='relu'),\n",
    "    layers.Dense(encoding_dim, activation=\"relu\")(input_img)\n",
    "    ])\n",
    "auto_encoder = keras.Model(input_img, modelEncoded)\n",
    "auto_encoder.fit()\n",
    "#decoded = layers.Dense(64,activation=\"sigmoid\")(encoded)\n",
    "\n",
    "#decoder_layer = auto_encoder.layers[-1]\n",
    "#encoded_input = keras.Input(shape=(encoding_dim,))\n",
    "\n",
    "#decoder = keras.Model(encoded_input, decoder_layer(encoded_input))\n",
    "#auto_encoder.fit()"
   ]
  }
 ],
 "metadata": {
  "kernelspec": {
   "display_name": "Python 3",
   "language": "python",
   "name": "python3"
  },
  "language_info": {
   "codemirror_mode": {
    "name": "ipython",
    "version": 2
   },
   "file_extension": ".py",
   "mimetype": "text/x-python",
   "name": "python",
   "nbconvert_exporter": "python",
   "pygments_lexer": "ipython2",
   "version": "2.7.6"
  }
 },
 "nbformat": 4,
 "nbformat_minor": 0
}