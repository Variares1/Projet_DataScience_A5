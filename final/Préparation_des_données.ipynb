{
 "cells": [
  {
   "cell_type": "markdown",
   "source": [
    "# Récupération et Préparation des données\n",
    "\n",
    "|Auteur|Centre|\n",
    "|---|---|\n",
    "|ACQUART Quentin|Aix-en-Provence|\n",
    "|DIMEGLIO Nicolas|Aix-en-Provence|\n",
    "|SIXDENIER Alexandre|Aix-en-Provence|\n",
    "|VESSERON Alexandre|Aix-en-Provence|"
   ],
   "metadata": {
    "collapsed": false
   }
  },
  {
   "cell_type": "markdown",
   "source": [
    "## Import des différentes bibliothèques"
   ],
   "metadata": {
    "collapsed": false
   }
  },
  {
   "cell_type": "code",
   "execution_count": 21,
   "outputs": [],
   "source": [
    "import zipfile\n",
    "import os\n",
    "import shutil\n",
    "from random import random\n",
    "from PIL import Image as Image"
   ],
   "metadata": {
    "collapsed": false,
    "pycharm": {
     "name": "#%%\n"
    }
   }
  },
  {
   "cell_type": "markdown",
   "source": [
    "## Téléchargement des données et dezippage\n",
    "\n",
    "\n",
    "1. Téléchargez les fichiers zip [Datasets Livrable 1](https://cesifr-my.sharepoint.com/personal/bcohen_cesi_fr/_layouts/15/onedrive.aspx?id=%2Fpersonal%2Fbcohen%5Fcesi%5Ffr%2FDocuments%2FOption%20Data%20Science%2FDataset%20projet&originalPath=aHR0cHM6Ly9jZXNpZnItbXkuc2hhcmVwb2ludC5jb20vOmY6L2cvcGVyc29uYWwvYmNvaGVuX2Nlc2lfZnIvRW1na3k5Sm4xQnhHbE84TzZVMDVpYThCSEhkd2JfR0hFd1E3MVNkZTBqbjZDQT9ydGltZT1MS2hHamJ5QjJVZw)\n",
    "Veuillez déposer ces fichiers Zip dans le répertoire `../Dataset/Project_Dataset_Zip`\n",
    "<a id='section_1'></a>\n",
    "### Architecture des dossiers :\n",
    "- >../Dataset\n",
    "     - >/Project_Dataset_Zip\n",
    "\n",
    "\n",
    "2. Respectez l'architecture ci-dessus puis lancez le jupyter\n",
    "<br><br>\n",
    "<div style=\"color:red\">Attention cette action peut être longue <b>(+1h)</b></div>"
   ],
   "metadata": {
    "collapsed": false
   }
  },
  {
   "cell_type": "code",
   "execution_count": 22,
   "outputs": [],
   "source": [
    "#Path\n",
    "dataset_dir_path = \"../Dataset\"\n",
    "zip_dataset_path = \"../Dataset/Project_Dataset_Zip\"\n",
    "extracted_dataset_path = \"../Dataset/Project_Dataset_Unzip\"\n",
    "clean_dataset_path = \"../Dataset/Project_Dataset_Clean\"\n",
    "light_dataset_path = \"../Dataset/Project_Dataset_Test\"\n",
    "dataset_size = 0.2"
   ],
   "metadata": {
    "collapsed": false,
    "pycharm": {
     "name": "#%%\n"
    }
   }
  },
  {
   "cell_type": "code",
   "execution_count": 23,
   "outputs": [],
   "source": [
    "#Extraction des dossiers Zip dans ../Dataset/Project_Dataset_Unzip\n",
    "def extract_zip(zip_path,extract_path):\n",
    "    if not os.path.exists(extract_path):\n",
    "        os.mkdir(extract_path)\n",
    "    for directory in os.listdir(zip_path):\n",
    "        print(directory)\n",
    "        with zipfile.ZipFile(zip_path + \"/\" + directory, 'r') as zip_ref:\n",
    "            zip_ref.extractall(extract_path)"
   ],
   "metadata": {
    "collapsed": false,
    "pycharm": {
     "name": "#%%\n"
    }
   }
  },
  {
   "cell_type": "markdown",
   "source": [
    "## Première préparation des données afin de les rendre exploitables\n",
    "Nettoyage du jeu de données en ouvrant chaque image afin de la copier sans métadata dans `../Dataset/Project_Dataset_Clean`\n",
    "<br>Toute les images corrompues/invalides ne seront pas copiés et un fichier de log `Error_file.log` sera généré dans le dossier `..\\Dataset`"
   ],
   "metadata": {
    "collapsed": false,
    "pycharm": {
     "name": "#%% md\n"
    }
   }
  },
  {
   "cell_type": "code",
   "execution_count": 24,
   "outputs": [],
   "source": [
    "def clean_dataset(dataset_path,extract_path):\n",
    "    for directory in os.listdir(extract_path):\n",
    "        print(extract_path + \"/\" + directory)\n",
    "        if not os.path.exists(dataset_path):\n",
    "            os.mkdir(dataset_path)\n",
    "        if not os.path.exists(dataset_path + \"/\" + directory):\n",
    "            os.mkdir(dataset_path + \"/\" + directory)\n",
    "        for file in os.listdir(extract_path + \"/\" + directory):\n",
    "            if not os.path.exists(dataset_path + \"/\"+ directory + \"/\" + file):\n",
    "                image = None\n",
    "                try:\n",
    "                    image = Image.open(extract_path + \"/\" + directory + \"/\" + file)\n",
    "                    data = list(image.getdata())\n",
    "                    image_without_exif = Image.new(image.mode, image.size)\n",
    "                    image_without_exif.putdata(data)\n",
    "                    image_without_exif.save(clean_dataset_path + \"/\" + directory + \"/\" + file)\n",
    "                except:\n",
    "                    if file == \"desktop.ini\":\n",
    "                        os.remove(extract_path + \"/\" + directory + \"/\" + file)\n",
    "                    else:\n",
    "                        print(extract_path + \"/\" + directory + \"/\" + file)\n",
    "                        print(image)\n",
    "                        if not os.path.exists(\"../Dataset/Error_file.log\"):\n",
    "                            fp = open('../Dataset/Error_file.log','w')\n",
    "                            fp.close()\n",
    "                        fp = open('../Dataset/Error_file.log','a')\n",
    "                        fp.write('\\n'+extract_path + \"/\" + directory + \"/\" + file)\n",
    "                        fp.write('\\n'+str(image))\n",
    "                        fp.close()\n",
    "                        image.close()\n",
    "                        #os.remove(extract_path + \"/\" + directory + \"/\" + file)\n",
    "                        try:\n",
    "                            os.remove(clean_dataset_path + \"/\" + directory + \"/\" + file)\n",
    "                        except:\n",
    "                            print(\"Failed to erase image\"+\"/\"+directory+\"/\"+file)\n",
    "                    pass"
   ],
   "metadata": {
    "collapsed": false,
    "pycharm": {
     "name": "#%%\n"
    }
   }
  },
  {
   "cell_type": "markdown",
   "source": [
    "## Data Set de test Intermédiaire\n",
    "Création d'un dataset plus léger, en récupérant aléatoirement des images dans le dataset\n",
    "<br> Par défaut la valeur est de 20%.\n",
    "<br> Pour changer la taille du dataset veuillez éditer la variable `dataset_size`"
   ],
   "metadata": {
    "collapsed": false,
    "pycharm": {
     "name": "#%% md\n"
    }
   }
  },
  {
   "cell_type": "code",
   "execution_count": 25,
   "outputs": [],
   "source": [
    "def dataset_test(light_dataset_path,dataset_path,dataset_size = 0.2):\n",
    "    if not os.path.exists(light_dataset_path):\n",
    "        os.mkdir(light_dataset_path)\n",
    "    for directory in os.listdir(dataset_path):\n",
    "        for file in os.listdir(dataset_path + \"/\" + directory):\n",
    "            random_number = random()\n",
    "            if not os.path.exists(light_dataset_path + \"/\" + directory):\n",
    "                os.mkdir(light_dataset_path + \"/\" + directory)\n",
    "            if random_number < dataset_size :\n",
    "                shutil.copy2(dataset_path + \"/\" + directory + \"/\" + file, light_dataset_path + \"/\" + directory)"
   ],
   "metadata": {
    "collapsed": false,
    "pycharm": {
     "name": "#%%\n"
    }
   }
  },
  {
   "cell_type": "markdown",
   "source": [
    "Code pour supprimer le `light_dataset` afin de le regénérer"
   ],
   "metadata": {
    "collapsed": false,
    "pycharm": {
     "name": "#%% md\n"
    }
   }
  },
  {
   "cell_type": "code",
   "execution_count": 26,
   "outputs": [],
   "source": [
    "#Uncomment to clear light_dataset\n",
    "def remove_data_set(dataset_path):\n",
    "    for directory in os.listdir(dataset_path):\n",
    "        for file in os.listdir(dataset_path + \"/\" + directory):\n",
    "            os.remove(dataset_path + \"/\" + directory + \"/\" + file)"
   ],
   "metadata": {
    "collapsed": false,
    "pycharm": {
     "name": "#%%\n"
    }
   }
  },
  {
   "cell_type": "markdown",
   "source": [
    "#### Livrable 1\n",
    "\n",
    "Les fonction ci-dessous nous permet de nettoyer et extraire les données du premier jeu de données pour le livrable 1."
   ],
   "metadata": {
    "collapsed": false,
    "pycharm": {
     "name": "#%% md\n"
    }
   }
  },
  {
   "cell_type": "code",
   "execution_count": 27,
   "outputs": [
    {
     "name": "stdout",
     "output_type": "stream",
     "text": [
      "Dataset Livrable 1 - Painting.zip\n",
      "Dataset Livrable 1 - Photo.zip\n",
      "Dataset Livrable 1 - Schematics.zip\n",
      "Dataset Livrable 1 - Sketch.zip\n",
      "Dataset Livrable 1 - Text.zip\n"
     ]
    }
   ],
   "source": [
    "extract_zip(zip_dataset_path, extracted_dataset_path)"
   ],
   "metadata": {
    "collapsed": false,
    "pycharm": {
     "name": "#%%\n"
    }
   }
  },
  {
   "cell_type": "code",
   "execution_count": 28,
   "outputs": [
    {
     "name": "stdout",
     "output_type": "stream",
     "text": [
      "../Dataset/Project_Dataset_Unzip/Painting\n",
      "../Dataset/Project_Dataset_Unzip/Painting/painting_01794.jpg\n",
      "<PIL.GifImagePlugin.GifImageFile image mode=P size=621x754 at 0x1DBADE60248>\n",
      "../Dataset/Project_Dataset_Unzip/Painting/painting_04963.jpg\n",
      "<PIL.PngImagePlugin.PngImageFile image mode=P size=1754x1240 at 0x1DBADE602C8>\n",
      "../Dataset/Project_Dataset_Unzip/Painting/painting_05169.jpg\n",
      "<PIL.PngImagePlugin.PngImageFile image mode=P size=564x794 at 0x1DBADE60708>\n",
      "../Dataset/Project_Dataset_Unzip/Painting/painting_06433.jpg\n",
      "<PIL.PngImagePlugin.PngImageFile image mode=P size=494x601 at 0x1DBADE601C8>\n",
      "../Dataset/Project_Dataset_Unzip/Painting/painting_06533.jpg\n",
      "<PIL.PngImagePlugin.PngImageFile image mode=RGBA size=549x712 at 0x1DBADE60108>\n",
      "../Dataset/Project_Dataset_Unzip/Painting/painting_07549.jpg\n",
      "<PIL.PngImagePlugin.PngImageFile image mode=RGBA size=1256x2328 at 0x1DBADE60E08>\n",
      "../Dataset/Project_Dataset_Unzip/Painting/painting_08128.jpg\n",
      "<PIL.PngImagePlugin.PngImageFile image mode=P size=1704x1201 at 0x1DBADE60C08>\n",
      "../Dataset/Project_Dataset_Unzip/Painting/painting_08211.jpg\n",
      "<PIL.PngImagePlugin.PngImageFile image mode=RGBA size=387x425 at 0x1DBADE60108>\n",
      "../Dataset/Project_Dataset_Unzip/Painting/painting_08502.jpg\n",
      "<PIL.PngImagePlugin.PngImageFile image mode=RGBA size=1779x2683 at 0x1DBADE604C8>\n",
      "../Dataset/Project_Dataset_Unzip/Painting/painting_09900.jpg\n",
      "<PIL.PngImagePlugin.PngImageFile image mode=RGBA size=1148x1480 at 0x1DBADE60EC8>\n",
      "../Dataset/Project_Dataset_Unzip/Photo\n",
      "../Dataset/Project_Dataset_Unzip/Schematics\n",
      "../Dataset/Project_Dataset_Unzip/Sketch\n",
      "../Dataset/Project_Dataset_Unzip/Text\n"
     ]
    }
   ],
   "source": [
    "clean_dataset(clean_dataset_path,extracted_dataset_path)"
   ],
   "metadata": {
    "collapsed": false,
    "pycharm": {
     "name": "#%%\n"
    }
   }
  },
  {
   "cell_type": "code",
   "execution_count": 29,
   "outputs": [],
   "source": [
    "dataset_test(light_dataset_path,clean_dataset_path,dataset_size)"
   ],
   "metadata": {
    "collapsed": false,
    "pycharm": {
     "name": "#%%\n"
    }
   }
  },
  {
   "cell_type": "markdown",
   "source": [
    "#### Livrable 2\n",
    "La fonction ci-dessous nous permet de nettoyer et extraire les données du second jeu de données pour le livrable 2."
   ],
   "metadata": {
    "collapsed": false
   }
  },
  {
   "cell_type": "code",
   "execution_count": 34,
   "outputs": [
    {
     "name": "stdout",
     "output_type": "stream",
     "text": [
      "Dataset Livrable 2.zip\n"
     ]
    }
   ],
   "source": [
    "extract_zip('../DatasetL2/Project_Dataset_Zip/', '../DatasetL2/Project_Dataset_Unzip')"
   ],
   "metadata": {
    "collapsed": false,
    "pycharm": {
     "name": "#%%\n"
    }
   }
  },
  {
   "cell_type": "code",
   "execution_count": 32,
   "outputs": [
    {
     "name": "stdout",
     "output_type": "stream",
     "text": [
      "../DatasetL2/Project_Dataset_Unzip/Dataset\n",
      "../DatasetL2/Project_Dataset_Unzip/Dataset/noisy_001.jpg\n",
      "<PIL.JpegImagePlugin.JpegImageFile image mode=RGB size=640x426 at 0x1DBADE46288>\n",
      "Failed to erase imageDataset/noisy_001.jpg\n",
      "../DatasetL2/Project_Dataset_Unzip/Dataset/noisy_002.jpg\n",
      "<PIL.JpegImagePlugin.JpegImageFile image mode=RGB size=640x482 at 0x1DBADE97508>\n",
      "Failed to erase imageDataset/noisy_002.jpg\n",
      "../DatasetL2/Project_Dataset_Unzip/Dataset/noisy_003.jpg\n",
      "<PIL.JpegImagePlugin.JpegImageFile image mode=RGB size=480x640 at 0x1DBADE970C8>\n",
      "Failed to erase imageDataset/noisy_003.jpg\n",
      "../DatasetL2/Project_Dataset_Unzip/Dataset/noisy_004.jpg\n",
      "<PIL.JpegImagePlugin.JpegImageFile image mode=RGB size=518x600 at 0x1DBADE97348>\n",
      "Failed to erase imageDataset/noisy_004.jpg\n",
      "../DatasetL2/Project_Dataset_Unzip/Dataset/noisy_005.jpg\n",
      "<PIL.JpegImagePlugin.JpegImageFile image mode=RGB size=640x480 at 0x1DBADE97308>\n",
      "Failed to erase imageDataset/noisy_005.jpg\n",
      "../DatasetL2/Project_Dataset_Unzip/Dataset/noisy_006.jpg\n",
      "<PIL.JpegImagePlugin.JpegImageFile image mode=RGB size=480x640 at 0x1DBADE970C8>\n",
      "Failed to erase imageDataset/noisy_006.jpg\n",
      "../DatasetL2/Project_Dataset_Unzip/Dataset/noisy_007.jpg\n",
      "<PIL.JpegImagePlugin.JpegImageFile image mode=RGB size=640x419 at 0x1DBADE97A08>\n",
      "Failed to erase imageDataset/noisy_007.jpg\n",
      "../DatasetL2/Project_Dataset_Unzip/Dataset/noisy_008.jpg\n",
      "<PIL.JpegImagePlugin.JpegImageFile image mode=RGB size=640x498 at 0x1DBADE97308>\n",
      "Failed to erase imageDataset/noisy_008.jpg\n",
      "../DatasetL2/Project_Dataset_Unzip/Dataset/noisy_009.jpg\n",
      "<PIL.JpegImagePlugin.JpegImageFile image mode=RGB size=640x480 at 0x1DBADE970C8>\n",
      "Failed to erase imageDataset/noisy_009.jpg\n",
      "../DatasetL2/Project_Dataset_Unzip/Dataset/noisy_010.jpg\n",
      "<PIL.JpegImagePlugin.JpegImageFile image mode=RGB size=427x640 at 0x1DBADE97148>\n",
      "Failed to erase imageDataset/noisy_010.jpg\n",
      "../DatasetL2/Project_Dataset_Unzip/Dataset/noisy_011.jpg\n",
      "<PIL.JpegImagePlugin.JpegImageFile image mode=RGB size=612x612 at 0x1DBADE97508>\n",
      "Failed to erase imageDataset/noisy_011.jpg\n",
      "../DatasetL2/Project_Dataset_Unzip/Dataset/noisy_012.jpg\n",
      "<PIL.JpegImagePlugin.JpegImageFile image mode=RGB size=500x374 at 0x1DBADE97408>\n",
      "Failed to erase imageDataset/noisy_012.jpg\n",
      "../DatasetL2/Project_Dataset_Unzip/Dataset/noisy_013.jpg\n",
      "<PIL.JpegImagePlugin.JpegImageFile image mode=RGB size=640x428 at 0x1DBADE97148>\n",
      "Failed to erase imageDataset/noisy_013.jpg\n",
      "../DatasetL2/Project_Dataset_Unzip/Dataset/noisy_014.jpg\n",
      "<PIL.JpegImagePlugin.JpegImageFile image mode=RGB size=640x463 at 0x1DBADE97588>\n",
      "Failed to erase imageDataset/noisy_014.jpg\n",
      "../DatasetL2/Project_Dataset_Unzip/Dataset/noisy_015.jpg\n",
      "<PIL.JpegImagePlugin.JpegImageFile image mode=RGB size=640x480 at 0x1DBADE93C08>\n",
      "Failed to erase imageDataset/noisy_015.jpg\n",
      "../DatasetL2/Project_Dataset_Unzip/Dataset/noisy_016.jpg\n",
      "<PIL.JpegImagePlugin.JpegImageFile image mode=RGB size=640x480 at 0x1DBADE93F88>\n",
      "Failed to erase imageDataset/noisy_016.jpg\n",
      "../DatasetL2/Project_Dataset_Unzip/Dataset/noisy_017.jpg\n",
      "<PIL.JpegImagePlugin.JpegImageFile image mode=RGB size=480x640 at 0x1DBADE97588>\n",
      "Failed to erase imageDataset/noisy_017.jpg\n",
      "../DatasetL2/Project_Dataset_Unzip/Dataset/noisy_018.jpg\n",
      "<PIL.JpegImagePlugin.JpegImageFile image mode=RGB size=640x427 at 0x1DBADE97508>\n",
      "Failed to erase imageDataset/noisy_018.jpg\n",
      "../DatasetL2/Project_Dataset_Unzip/Dataset/noisy_019.jpg\n",
      "<PIL.JpegImagePlugin.JpegImageFile image mode=RGB size=354x500 at 0x1DBADE93648>\n",
      "Failed to erase imageDataset/noisy_019.jpg\n",
      "../DatasetL2/Project_Dataset_Unzip/Dataset/noisy_020.jpg\n",
      "<PIL.JpegImagePlugin.JpegImageFile image mode=RGB size=640x480 at 0x1DBADE93D48>\n",
      "Failed to erase imageDataset/noisy_020.jpg\n",
      "../DatasetL2/Project_Dataset_Unzip/Dataset/noisy_021.jpg\n",
      "<PIL.JpegImagePlugin.JpegImageFile image mode=RGB size=428x640 at 0x1DBADE93D48>\n",
      "Failed to erase imageDataset/noisy_021.jpg\n",
      "../DatasetL2/Project_Dataset_Unzip/Dataset/noisy_022.jpg\n",
      "<PIL.JpegImagePlugin.JpegImageFile image mode=RGB size=640x428 at 0x1DBADE93D48>\n",
      "Failed to erase imageDataset/noisy_022.jpg\n",
      "../DatasetL2/Project_Dataset_Unzip/Dataset/noisy_023.jpg\n",
      "<PIL.JpegImagePlugin.JpegImageFile image mode=RGB size=640x480 at 0x1DBADE93D48>\n",
      "Failed to erase imageDataset/noisy_023.jpg\n",
      "../DatasetL2/Project_Dataset_Unzip/Dataset/noisy_024.jpg\n",
      "<PIL.JpegImagePlugin.JpegImageFile image mode=RGB size=640x428 at 0x1DBADE93D48>\n",
      "Failed to erase imageDataset/noisy_024.jpg\n",
      "../DatasetL2/Project_Dataset_Unzip/Dataset/noisy_025.jpg\n",
      "<PIL.JpegImagePlugin.JpegImageFile image mode=RGB size=640x428 at 0x1DBADE93308>\n",
      "Failed to erase imageDataset/noisy_025.jpg\n",
      "../DatasetL2/Project_Dataset_Unzip/Dataset/noisy_026.jpg\n",
      "<PIL.JpegImagePlugin.JpegImageFile image mode=RGB size=600x464 at 0x1DBADE93308>\n",
      "Failed to erase imageDataset/noisy_026.jpg\n",
      "../DatasetL2/Project_Dataset_Unzip/Dataset/noisy_027.jpg\n",
      "<PIL.JpegImagePlugin.JpegImageFile image mode=RGB size=500x375 at 0x1DBADE93308>\n",
      "Failed to erase imageDataset/noisy_027.jpg\n",
      "../DatasetL2/Project_Dataset_Unzip/Dataset/noisy_028.jpg\n",
      "<PIL.JpegImagePlugin.JpegImageFile image mode=RGB size=640x463 at 0x1DBADE93308>\n",
      "Failed to erase imageDataset/noisy_028.jpg\n",
      "../DatasetL2/Project_Dataset_Unzip/Dataset/noisy_029.jpg\n",
      "<PIL.JpegImagePlugin.JpegImageFile image mode=RGB size=640x427 at 0x1DBADE93848>\n",
      "Failed to erase imageDataset/noisy_029.jpg\n",
      "../DatasetL2/Project_Dataset_Unzip/Dataset/noisy_030.jpg\n",
      "<PIL.JpegImagePlugin.JpegImageFile image mode=RGB size=612x612 at 0x1DBADE93848>\n",
      "Failed to erase imageDataset/noisy_030.jpg\n",
      "../DatasetL2/Project_Dataset_Unzip/Dataset/noisy_031.jpg\n",
      "<PIL.JpegImagePlugin.JpegImageFile image mode=RGB size=424x640 at 0x1DBADE93C08>\n",
      "Failed to erase imageDataset/noisy_031.jpg\n",
      "../DatasetL2/Project_Dataset_Unzip/Dataset/noisy_032.jpg\n",
      "<PIL.JpegImagePlugin.JpegImageFile image mode=RGB size=427x640 at 0x1DBADE97408>\n",
      "Failed to erase imageDataset/noisy_032.jpg\n",
      "../DatasetL2/Project_Dataset_Unzip/Dataset/noisy_033.jpg\n",
      "<PIL.JpegImagePlugin.JpegImageFile image mode=RGB size=427x640 at 0x1DBADE93C08>\n",
      "Failed to erase imageDataset/noisy_033.jpg\n",
      "../DatasetL2/Project_Dataset_Unzip/Dataset/noisy_034.jpg\n",
      "<PIL.JpegImagePlugin.JpegImageFile image mode=RGB size=612x612 at 0x1DBADE93C08>\n",
      "Failed to erase imageDataset/noisy_034.jpg\n",
      "../DatasetL2/Project_Dataset_Unzip/Dataset/noisy_035.jpg\n",
      "<PIL.JpegImagePlugin.JpegImageFile image mode=RGB size=640x480 at 0x1DBADE93C08>\n",
      "Failed to erase imageDataset/noisy_035.jpg\n",
      "../DatasetL2/Project_Dataset_Unzip/Dataset/noisy_036.jpg\n",
      "<PIL.JpegImagePlugin.JpegImageFile image mode=RGB size=640x425 at 0x1DBADE93C08>\n",
      "Failed to erase imageDataset/noisy_036.jpg\n",
      "../DatasetL2/Project_Dataset_Unzip/Dataset/noisy_037.jpg\n",
      "<PIL.JpegImagePlugin.JpegImageFile image mode=RGB size=640x480 at 0x1DBADE93C08>\n",
      "Failed to erase imageDataset/noisy_037.jpg\n",
      "../DatasetL2/Project_Dataset_Unzip/Dataset/noisy_038.jpg\n",
      "<PIL.JpegImagePlugin.JpegImageFile image mode=RGB size=500x375 at 0x1DBADE93188>\n",
      "Failed to erase imageDataset/noisy_038.jpg\n",
      "../DatasetL2/Project_Dataset_Unzip/Dataset/noisy_039.jpg\n",
      "<PIL.JpegImagePlugin.JpegImageFile image mode=RGB size=640x480 at 0x1DBADE93288>\n",
      "Failed to erase imageDataset/noisy_039.jpg\n",
      "../DatasetL2/Project_Dataset_Unzip/Dataset/noisy_040.jpg\n",
      "<PIL.JpegImagePlugin.JpegImageFile image mode=RGB size=480x640 at 0x1DBADE93308>\n",
      "Failed to erase imageDataset/noisy_040.jpg\n",
      "../DatasetL2/Project_Dataset_Unzip/Dataset/noisy_041.jpg\n",
      "<PIL.JpegImagePlugin.JpegImageFile image mode=RGB size=640x480 at 0x1DBADE937C8>\n",
      "Failed to erase imageDataset/noisy_041.jpg\n",
      "../DatasetL2/Project_Dataset_Unzip/Dataset/noisy_042.jpg\n",
      "<PIL.JpegImagePlugin.JpegImageFile image mode=RGB size=640x480 at 0x1DBADE930C8>\n",
      "Failed to erase imageDataset/noisy_042.jpg\n",
      "../DatasetL2/Project_Dataset_Unzip/Dataset/noisy_043.jpg\n",
      "<PIL.JpegImagePlugin.JpegImageFile image mode=RGB size=640x427 at 0x1DBADE937C8>\n",
      "Failed to erase imageDataset/noisy_043.jpg\n",
      "../DatasetL2/Project_Dataset_Unzip/Dataset/noisy_044.jpg\n",
      "<PIL.JpegImagePlugin.JpegImageFile image mode=RGB size=640x480 at 0x1DBADE93B88>\n",
      "Failed to erase imageDataset/noisy_044.jpg\n",
      "../DatasetL2/Project_Dataset_Unzip/Dataset/noisy_045.jpg\n",
      "<PIL.JpegImagePlugin.JpegImageFile image mode=RGB size=500x337 at 0x1DBADE93FC8>\n",
      "Failed to erase imageDataset/noisy_045.jpg\n",
      "../DatasetL2/Project_Dataset_Unzip/Dataset/noisy_046.jpg\n",
      "<PIL.JpegImagePlugin.JpegImageFile image mode=RGB size=500x335 at 0x1DBADE93C08>\n",
      "Failed to erase imageDataset/noisy_046.jpg\n",
      "../DatasetL2/Project_Dataset_Unzip/Dataset/noisy_047.jpg\n",
      "<PIL.JpegImagePlugin.JpegImageFile image mode=RGB size=640x258 at 0x1DBADE93C08>\n",
      "Failed to erase imageDataset/noisy_047.jpg\n",
      "../DatasetL2/Project_Dataset_Unzip/Dataset/noisy_048.jpg\n",
      "<PIL.JpegImagePlugin.JpegImageFile image mode=RGB size=640x480 at 0x1DBADE93948>\n",
      "Failed to erase imageDataset/noisy_048.jpg\n",
      "../DatasetL2/Project_Dataset_Unzip/Dataset/noisy_049.jpg\n",
      "<PIL.JpegImagePlugin.JpegImageFile image mode=RGB size=640x425 at 0x1DBADE93948>\n",
      "Failed to erase imageDataset/noisy_049.jpg\n",
      "../DatasetL2/Project_Dataset_Unzip/Dataset/noisy_050.jpg\n",
      "<PIL.JpegImagePlugin.JpegImageFile image mode=RGB size=640x562 at 0x1DBADE93788>\n",
      "Failed to erase imageDataset/noisy_050.jpg\n",
      "../DatasetL2/Project_Dataset_Unzip/Dataset/noisy_051.jpg\n",
      "<PIL.JpegImagePlugin.JpegImageFile image mode=RGB size=500x419 at 0x1DBADE930C8>\n",
      "Failed to erase imageDataset/noisy_051.jpg\n",
      "../DatasetL2/Project_Dataset_Unzip/Dataset/noisy_052.jpg\n",
      "<PIL.JpegImagePlugin.JpegImageFile image mode=RGB size=640x427 at 0x1DBADE93D08>\n",
      "Failed to erase imageDataset/noisy_052.jpg\n",
      "../DatasetL2/Project_Dataset_Unzip/Dataset/noisy_053.jpg\n",
      "<PIL.JpegImagePlugin.JpegImageFile image mode=RGB size=333x500 at 0x1DBADE93288>\n",
      "Failed to erase imageDataset/noisy_053.jpg\n",
      "../DatasetL2/Project_Dataset_Unzip/Dataset/noisy_054.jpg\n",
      "<PIL.JpegImagePlugin.JpegImageFile image mode=RGB size=482x500 at 0x1DBADE93288>\n",
      "Failed to erase imageDataset/noisy_054.jpg\n",
      "../DatasetL2/Project_Dataset_Unzip/Dataset/noisy_055.jpg\n",
      "<PIL.JpegImagePlugin.JpegImageFile image mode=RGB size=640x427 at 0x1DBADE934C8>\n",
      "Failed to erase imageDataset/noisy_055.jpg\n",
      "../DatasetL2/Project_Dataset_Unzip/Dataset/noisy_056.jpg\n",
      "<PIL.JpegImagePlugin.JpegImageFile image mode=RGB size=640x427 at 0x1DBADE930C8>\n",
      "Failed to erase imageDataset/noisy_056.jpg\n",
      "../DatasetL2/Project_Dataset_Unzip/Dataset/noisy_057.jpg\n",
      "<PIL.JpegImagePlugin.JpegImageFile image mode=RGB size=612x612 at 0x1DBADE93B88>\n",
      "Failed to erase imageDataset/noisy_057.jpg\n",
      "../DatasetL2/Project_Dataset_Unzip/Dataset/noisy_058.jpg\n",
      "<PIL.JpegImagePlugin.JpegImageFile image mode=RGB size=640x480 at 0x1DBADE93688>\n",
      "Failed to erase imageDataset/noisy_058.jpg\n",
      "../DatasetL2/Project_Dataset_Unzip/Dataset/noisy_059.jpg\n",
      "<PIL.JpegImagePlugin.JpegImageFile image mode=RGB size=640x480 at 0x1DBADE93688>\n",
      "Failed to erase imageDataset/noisy_059.jpg\n",
      "../DatasetL2/Project_Dataset_Unzip/Dataset/noisy_060.jpg\n",
      "<PIL.JpegImagePlugin.JpegImageFile image mode=RGB size=500x333 at 0x1DBADE93788>\n",
      "Failed to erase imageDataset/noisy_060.jpg\n",
      "../DatasetL2/Project_Dataset_Unzip/Dataset/noisy_061.jpg\n",
      "<PIL.JpegImagePlugin.JpegImageFile image mode=RGB size=640x640 at 0x1DBADE93F88>\n",
      "Failed to erase imageDataset/noisy_061.jpg\n",
      "../DatasetL2/Project_Dataset_Unzip/Dataset/noisy_062.jpg\n",
      "<PIL.JpegImagePlugin.JpegImageFile image mode=RGB size=500x375 at 0x1DBADE930C8>\n",
      "Failed to erase imageDataset/noisy_062.jpg\n",
      "../DatasetL2/Project_Dataset_Unzip/Dataset/noisy_063.jpg\n",
      "<PIL.JpegImagePlugin.JpegImageFile image mode=RGB size=640x518 at 0x1DBADE93D08>\n",
      "Failed to erase imageDataset/noisy_063.jpg\n",
      "../DatasetL2/Project_Dataset_Unzip/Dataset/noisy_064.jpg\n",
      "<PIL.JpegImagePlugin.JpegImageFile image mode=RGB size=640x480 at 0x1DBADE93948>\n",
      "Failed to erase imageDataset/noisy_064.jpg\n",
      "../DatasetL2/Project_Dataset_Unzip/Dataset/noisy_065.jpg\n",
      "<PIL.JpegImagePlugin.JpegImageFile image mode=RGB size=640x425 at 0x1DBADE939C8>\n",
      "Failed to erase imageDataset/noisy_065.jpg\n",
      "../DatasetL2/Project_Dataset_Unzip/Dataset/noisy_066.jpg\n",
      "<PIL.JpegImagePlugin.JpegImageFile image mode=RGB size=640x426 at 0x1DBADE939C8>\n",
      "Failed to erase imageDataset/noisy_066.jpg\n",
      "../DatasetL2/Project_Dataset_Unzip/Dataset/noisy_067.jpg\n",
      "<PIL.JpegImagePlugin.JpegImageFile image mode=RGB size=640x494 at 0x1DBADE93848>\n",
      "Failed to erase imageDataset/noisy_067.jpg\n",
      "../DatasetL2/Project_Dataset_Unzip/Dataset/noisy_068.jpg\n",
      "<PIL.JpegImagePlugin.JpegImageFile image mode=RGB size=640x427 at 0x1DBADE93848>\n",
      "Failed to erase imageDataset/noisy_068.jpg\n",
      "../DatasetL2/Project_Dataset_Unzip/Dataset/noisy_069.jpg\n",
      "<PIL.JpegImagePlugin.JpegImageFile image mode=RGB size=640x480 at 0x1DBADE93F08>\n",
      "Failed to erase imageDataset/noisy_069.jpg\n",
      "../DatasetL2/Project_Dataset_Unzip/Dataset/noisy_070.jpg\n",
      "<PIL.JpegImagePlugin.JpegImageFile image mode=RGB size=480x640 at 0x1DBADE93F08>\n",
      "Failed to erase imageDataset/noisy_070.jpg\n",
      "../DatasetL2/Project_Dataset_Unzip/Dataset/noisy_071.jpg\n",
      "<PIL.JpegImagePlugin.JpegImageFile image mode=RGB size=500x375 at 0x1DBADE930C8>\n",
      "Failed to erase imageDataset/noisy_071.jpg\n",
      "../DatasetL2/Project_Dataset_Unzip/Dataset/noisy_072.jpg\n",
      "<PIL.JpegImagePlugin.JpegImageFile image mode=RGB size=640x427 at 0x1DBADE934C8>\n",
      "Failed to erase imageDataset/noisy_072.jpg\n",
      "../DatasetL2/Project_Dataset_Unzip/Dataset/noisy_073.jpg\n",
      "<PIL.JpegImagePlugin.JpegImageFile image mode=RGB size=640x424 at 0x1DBADE93948>\n",
      "Failed to erase imageDataset/noisy_073.jpg\n",
      "../DatasetL2/Project_Dataset_Unzip/Dataset/noisy_074.jpg\n",
      "<PIL.JpegImagePlugin.JpegImageFile image mode=RGB size=640x480 at 0x1DBADE93F08>\n",
      "Failed to erase imageDataset/noisy_074.jpg\n",
      "../DatasetL2/Project_Dataset_Unzip/Dataset/noisy_075.jpg\n",
      "<PIL.JpegImagePlugin.JpegImageFile image mode=RGB size=640x480 at 0x1DBADE93788>\n",
      "Failed to erase imageDataset/noisy_075.jpg\n",
      "../DatasetL2/Project_Dataset_Unzip/Dataset/noisy_076.jpg\n",
      "<PIL.JpegImagePlugin.JpegImageFile image mode=RGB size=640x480 at 0x1DBADE93F08>\n",
      "Failed to erase imageDataset/noisy_076.jpg\n",
      "../DatasetL2/Project_Dataset_Unzip/Dataset/noisy_077.jpg\n",
      "<PIL.JpegImagePlugin.JpegImageFile image mode=RGB size=640x278 at 0x1DBADE93F08>\n",
      "Failed to erase imageDataset/noisy_077.jpg\n",
      "../DatasetL2/Project_Dataset_Unzip/Dataset/noisy_078.jpg\n",
      "<PIL.JpegImagePlugin.JpegImageFile image mode=RGB size=458x640 at 0x1DBADE93948>\n",
      "Failed to erase imageDataset/noisy_078.jpg\n",
      "../DatasetL2/Project_Dataset_Unzip/Dataset/noisy_079.jpg\n",
      "<PIL.JpegImagePlugin.JpegImageFile image mode=RGB size=640x430 at 0x1DBADE93288>\n",
      "Failed to erase imageDataset/noisy_079.jpg\n",
      "../DatasetL2/Project_Dataset_Unzip/Dataset/noisy_080.jpg\n",
      "<PIL.JpegImagePlugin.JpegImageFile image mode=RGB size=640x480 at 0x1DBADE93248>\n",
      "Failed to erase imageDataset/noisy_080.jpg\n",
      "../DatasetL2/Project_Dataset_Unzip/Dataset/noisy_081.jpg\n",
      "<PIL.JpegImagePlugin.JpegImageFile image mode=RGB size=500x500 at 0x1DBADE93188>\n",
      "Failed to erase imageDataset/noisy_081.jpg\n",
      "../DatasetL2/Project_Dataset_Unzip/Dataset/noisy_082.jpg\n",
      "<PIL.JpegImagePlugin.JpegImageFile image mode=RGB size=640x640 at 0x1DBADE937C8>\n",
      "Failed to erase imageDataset/noisy_082.jpg\n",
      "../DatasetL2/Project_Dataset_Unzip/Dataset/noisy_083.jpg\n",
      "<PIL.JpegImagePlugin.JpegImageFile image mode=RGB size=375x500 at 0x1DBADE93688>\n",
      "Failed to erase imageDataset/noisy_083.jpg\n",
      "../DatasetL2/Project_Dataset_Unzip/Dataset/noisy_084.jpg\n",
      "<PIL.JpegImagePlugin.JpegImageFile image mode=RGB size=564x640 at 0x1DBADE935C8>\n",
      "Failed to erase imageDataset/noisy_084.jpg\n",
      "../DatasetL2/Project_Dataset_Unzip/Dataset/noisy_085.jpg\n",
      "<PIL.JpegImagePlugin.JpegImageFile image mode=RGB size=640x480 at 0x1DBADE935C8>\n",
      "Failed to erase imageDataset/noisy_085.jpg\n",
      "../DatasetL2/Project_Dataset_Unzip/Dataset/noisy_086.jpg\n",
      "<PIL.JpegImagePlugin.JpegImageFile image mode=RGB size=500x353 at 0x1DBADE93C08>\n",
      "Failed to erase imageDataset/noisy_086.jpg\n",
      "../DatasetL2/Project_Dataset_Unzip/Dataset/noisy_087.jpg\n",
      "<PIL.JpegImagePlugin.JpegImageFile image mode=RGB size=640x413 at 0x1DBADE937C8>\n",
      "Failed to erase imageDataset/noisy_087.jpg\n",
      "../DatasetL2/Project_Dataset_Unzip/Dataset/noisy_088.jpg\n",
      "<PIL.JpegImagePlugin.JpegImageFile image mode=RGB size=473x640 at 0x1DBADE93FC8>\n",
      "Failed to erase imageDataset/noisy_088.jpg\n",
      "../DatasetL2/Project_Dataset_Unzip/Dataset/noisy_089.jpg\n",
      "<PIL.JpegImagePlugin.JpegImageFile image mode=RGB size=640x480 at 0x1DBADE93D48>\n",
      "Failed to erase imageDataset/noisy_089.jpg\n",
      "../DatasetL2/Project_Dataset_Unzip/Dataset/noisy_090.jpg\n",
      "<PIL.JpegImagePlugin.JpegImageFile image mode=RGB size=640x427 at 0x1DBADE934C8>\n",
      "Failed to erase imageDataset/noisy_090.jpg\n",
      "../DatasetL2/Project_Dataset_Unzip/Dataset/noisy_091.jpg\n",
      "<PIL.JpegImagePlugin.JpegImageFile image mode=RGB size=500x375 at 0x1DBADE93288>\n",
      "Failed to erase imageDataset/noisy_091.jpg\n",
      "../DatasetL2/Project_Dataset_Unzip/Dataset/noisy_092.jpg\n",
      "<PIL.JpegImagePlugin.JpegImageFile image mode=RGB size=640x233 at 0x1DBADE93248>\n",
      "Failed to erase imageDataset/noisy_092.jpg\n",
      "../DatasetL2/Project_Dataset_Unzip/Dataset/noisy_093.jpg\n",
      "<PIL.JpegImagePlugin.JpegImageFile image mode=RGB size=550x640 at 0x1DBADE93248>\n",
      "Failed to erase imageDataset/noisy_093.jpg\n",
      "../DatasetL2/Project_Dataset_Unzip/Dataset/noisy_094.jpg\n",
      "<PIL.JpegImagePlugin.JpegImageFile image mode=RGB size=500x333 at 0x1DBADE935C8>\n",
      "Failed to erase imageDataset/noisy_094.jpg\n",
      "../DatasetL2/Project_Dataset_Unzip/Dataset/noisy_095.jpg\n",
      "<PIL.JpegImagePlugin.JpegImageFile image mode=RGB size=640x427 at 0x1DBADE93D08>\n",
      "Failed to erase imageDataset/noisy_095.jpg\n",
      "../DatasetL2/Project_Dataset_Unzip/Dataset/noisy_096.jpg\n",
      "<PIL.JpegImagePlugin.JpegImageFile image mode=RGB size=640x332 at 0x1DBADE93D08>\n",
      "Failed to erase imageDataset/noisy_096.jpg\n",
      "../DatasetL2/Project_Dataset_Unzip/Dataset/noisy_097.jpg\n",
      "<PIL.JpegImagePlugin.JpegImageFile image mode=RGB size=640x425 at 0x1DBADE93C08>\n",
      "Failed to erase imageDataset/noisy_097.jpg\n",
      "../DatasetL2/Project_Dataset_Unzip/Dataset/noisy_098.jpg\n",
      "<PIL.JpegImagePlugin.JpegImageFile image mode=RGB size=640x426 at 0x1DBADE93D48>\n",
      "Failed to erase imageDataset/noisy_098.jpg\n",
      "../DatasetL2/Project_Dataset_Unzip/Dataset/noisy_099.jpg\n",
      "<PIL.JpegImagePlugin.JpegImageFile image mode=RGB size=640x544 at 0x1DBADE93248>\n",
      "Failed to erase imageDataset/noisy_099.jpg\n",
      "../DatasetL2/Project_Dataset_Unzip/Dataset/noisy_100.jpg\n",
      "<PIL.JpegImagePlugin.JpegImageFile image mode=RGB size=640x480 at 0x1DBADE93848>\n",
      "Failed to erase imageDataset/noisy_100.jpg\n",
      "../DatasetL2/Project_Dataset_Unzip/Dataset/noisy_101.jpg\n",
      "<PIL.JpegImagePlugin.JpegImageFile image mode=RGB size=640x453 at 0x1DBADE93F88>\n",
      "Failed to erase imageDataset/noisy_101.jpg\n",
      "../DatasetL2/Project_Dataset_Unzip/Dataset/noisy_102.jpg\n",
      "<PIL.JpegImagePlugin.JpegImageFile image mode=RGB size=640x640 at 0x1DBADE932C8>\n",
      "Failed to erase imageDataset/noisy_102.jpg\n",
      "../DatasetL2/Project_Dataset_Unzip/Dataset/noisy_103.jpg\n",
      "<PIL.JpegImagePlugin.JpegImageFile image mode=RGB size=480x252 at 0x1DBADE932C8>\n",
      "Failed to erase imageDataset/noisy_103.jpg\n",
      "../DatasetL2/Project_Dataset_Unzip/Dataset/noisy_104.jpg\n",
      "<PIL.JpegImagePlugin.JpegImageFile image mode=RGB size=500x375 at 0x1DBADE93248>\n",
      "Failed to erase imageDataset/noisy_104.jpg\n",
      "../DatasetL2/Project_Dataset_Unzip/Dataset/noisy_105.jpg\n",
      "<PIL.JpegImagePlugin.JpegImageFile image mode=RGB size=640x480 at 0x1DBADE93288>\n",
      "Failed to erase imageDataset/noisy_105.jpg\n",
      "../DatasetL2/Project_Dataset_Unzip/Dataset/noisy_106.jpg\n",
      "<PIL.JpegImagePlugin.JpegImageFile image mode=RGB size=640x480 at 0x1DBADE93648>\n",
      "Failed to erase imageDataset/noisy_106.jpg\n",
      "../DatasetL2/Project_Dataset_Unzip/Dataset/noisy_107.jpg\n",
      "<PIL.JpegImagePlugin.JpegImageFile image mode=RGB size=640x480 at 0x1DBADE93788>\n",
      "Failed to erase imageDataset/noisy_107.jpg\n",
      "../DatasetL2/Project_Dataset_Unzip/Dataset/noisy_108.jpg\n",
      "<PIL.JpegImagePlugin.JpegImageFile image mode=RGB size=640x427 at 0x1DBADE93308>\n",
      "Failed to erase imageDataset/noisy_108.jpg\n",
      "../DatasetL2/Project_Dataset_Unzip/Dataset/noisy_109.jpg\n",
      "<PIL.JpegImagePlugin.JpegImageFile image mode=RGB size=640x429 at 0x1DBADE930C8>\n",
      "Failed to erase imageDataset/noisy_109.jpg\n",
      "../DatasetL2/Project_Dataset_Unzip/Dataset/noisy_110.jpg\n",
      "<PIL.JpegImagePlugin.JpegImageFile image mode=RGB size=640x426 at 0x1DBADE930C8>\n",
      "Failed to erase imageDataset/noisy_110.jpg\n",
      "../DatasetL2/Project_Dataset_Unzip/Dataset/noisy_111.jpg\n",
      "<PIL.JpegImagePlugin.JpegImageFile image mode=RGB size=640x480 at 0x1DBADE93648>\n",
      "Failed to erase imageDataset/noisy_111.jpg\n",
      "../DatasetL2/Project_Dataset_Unzip/Dataset/noisy_112.jpg\n",
      "<PIL.JpegImagePlugin.JpegImageFile image mode=RGB size=640x480 at 0x1DBADE93788>\n",
      "Failed to erase imageDataset/noisy_112.jpg\n",
      "../DatasetL2/Project_Dataset_Unzip/Dataset/noisy_113.jpg\n",
      "<PIL.JpegImagePlugin.JpegImageFile image mode=RGB size=480x640 at 0x1DBADE93788>\n",
      "Failed to erase imageDataset/noisy_113.jpg\n",
      "../DatasetL2/Project_Dataset_Unzip/Dataset/noisy_114.jpg\n",
      "<PIL.JpegImagePlugin.JpegImageFile image mode=RGB size=640x425 at 0x1DBADE93C08>\n",
      "Failed to erase imageDataset/noisy_114.jpg\n",
      "../DatasetL2/Project_Dataset_Unzip/Dataset/noisy_115.jpg\n",
      "<PIL.JpegImagePlugin.JpegImageFile image mode=RGB size=375x500 at 0x1DBADE93C08>\n",
      "Failed to erase imageDataset/noisy_115.jpg\n",
      "../DatasetL2/Project_Dataset_Unzip/Dataset/noisy_116.jpg\n",
      "<PIL.JpegImagePlugin.JpegImageFile image mode=RGB size=640x480 at 0x1DBADE93648>\n",
      "Failed to erase imageDataset/noisy_116.jpg\n",
      "../DatasetL2/Project_Dataset_Unzip/Dataset/noisy_117.jpg\n",
      "<PIL.JpegImagePlugin.JpegImageFile image mode=RGB size=640x427 at 0x1DBADE93F88>\n",
      "Failed to erase imageDataset/noisy_117.jpg\n",
      "../DatasetL2/Project_Dataset_Unzip/Dataset/noisy_118.jpg\n",
      "<PIL.JpegImagePlugin.JpegImageFile image mode=RGB size=640x428 at 0x1DBADE93288>\n",
      "Failed to erase imageDataset/noisy_118.jpg\n",
      "../DatasetL2/Project_Dataset_Unzip/Dataset/noisy_119.jpg\n",
      "<PIL.JpegImagePlugin.JpegImageFile image mode=RGB size=640x462 at 0x1DBADE934C8>\n",
      "Failed to erase imageDataset/noisy_119.jpg\n",
      "../DatasetL2/Project_Dataset_Unzip/Dataset/noisy_120.jpg\n",
      "<PIL.JpegImagePlugin.JpegImageFile image mode=RGB size=640x480 at 0x1DBADE93188>\n",
      "Failed to erase imageDataset/noisy_120.jpg\n",
      "../DatasetL2/Project_Dataset_Unzip/Dataset/noisy_121.jpg\n",
      "<PIL.JpegImagePlugin.JpegImageFile image mode=RGB size=428x640 at 0x1DBADE936C8>\n",
      "Failed to erase imageDataset/noisy_121.jpg\n",
      "../DatasetL2/Project_Dataset_Unzip/Dataset/noisy_122.jpg\n",
      "<PIL.JpegImagePlugin.JpegImageFile image mode=RGB size=640x427 at 0x1DBADE934C8>\n",
      "Failed to erase imageDataset/noisy_122.jpg\n",
      "../DatasetL2/Project_Dataset_Unzip/Dataset/noisy_123.jpg\n",
      "<PIL.JpegImagePlugin.JpegImageFile image mode=RGB size=480x640 at 0x1DBADE93948>\n",
      "Failed to erase imageDataset/noisy_123.jpg\n",
      "../DatasetL2/Project_Dataset_Unzip/Dataset/noisy_124.jpg\n",
      "<PIL.JpegImagePlugin.JpegImageFile image mode=RGB size=427x640 at 0x1DBADE93948>\n",
      "Failed to erase imageDataset/noisy_124.jpg\n",
      "../DatasetL2/Project_Dataset_Unzip/Dataset/noisy_125.jpg\n",
      "<PIL.JpegImagePlugin.JpegImageFile image mode=RGB size=501x640 at 0x1DBADE935C8>\n",
      "Failed to erase imageDataset/noisy_125.jpg\n",
      "../DatasetL2/Project_Dataset_Unzip/Dataset/noisy_126.jpg\n",
      "<PIL.JpegImagePlugin.JpegImageFile image mode=RGB size=482x640 at 0x1DBADE93848>\n",
      "Failed to erase imageDataset/noisy_126.jpg\n",
      "../DatasetL2/Project_Dataset_Unzip/Dataset/noisy_127.jpg\n",
      "<PIL.JpegImagePlugin.JpegImageFile image mode=RGB size=640x427 at 0x1DBADE936C8>\n",
      "Failed to erase imageDataset/noisy_127.jpg\n",
      "../DatasetL2/Project_Dataset_Unzip/Dataset/noisy_128.jpg\n",
      "<PIL.JpegImagePlugin.JpegImageFile image mode=RGB size=500x333 at 0x1DBADE93308>\n",
      "Failed to erase imageDataset/noisy_128.jpg\n",
      "../DatasetL2/Project_Dataset_Unzip/Dataset/noisy_129.jpg\n",
      "<PIL.JpegImagePlugin.JpegImageFile image mode=RGB size=640x480 at 0x1DBADE93308>\n",
      "Failed to erase imageDataset/noisy_129.jpg\n",
      "../DatasetL2/Project_Dataset_Unzip/Dataset/noisy_130.jpg\n",
      "<PIL.JpegImagePlugin.JpegImageFile image mode=RGB size=500x299 at 0x1DBADE93D08>\n",
      "Failed to erase imageDataset/noisy_130.jpg\n",
      "../DatasetL2/Project_Dataset_Unzip/Dataset/noisy_131.jpg\n",
      "<PIL.JpegImagePlugin.JpegImageFile image mode=RGB size=640x463 at 0x1DBADE93D48>\n",
      "Failed to erase imageDataset/noisy_131.jpg\n",
      "../DatasetL2/Project_Dataset_Unzip/Dataset/noisy_132.jpg\n",
      "<PIL.JpegImagePlugin.JpegImageFile image mode=RGB size=640x480 at 0x1DBADE93848>\n",
      "Failed to erase imageDataset/noisy_132.jpg\n",
      "../DatasetL2/Project_Dataset_Unzip/Dataset/noisy_133.jpg\n",
      "<PIL.JpegImagePlugin.JpegImageFile image mode=RGB size=640x427 at 0x1DBADE93688>\n",
      "Failed to erase imageDataset/noisy_133.jpg\n",
      "../DatasetL2/Project_Dataset_Unzip/Dataset/noisy_134.jpg\n",
      "<PIL.JpegImagePlugin.JpegImageFile image mode=RGB size=640x480 at 0x1DBADE93188>\n",
      "Failed to erase imageDataset/noisy_134.jpg\n",
      "../DatasetL2/Project_Dataset_Unzip/Dataset/noisy_135.jpg\n",
      "<PIL.JpegImagePlugin.JpegImageFile image mode=RGB size=640x480 at 0x1DBADE93F08>\n",
      "Failed to erase imageDataset/noisy_135.jpg\n",
      "../DatasetL2/Project_Dataset_Unzip/Dataset/noisy_136.jpg\n",
      "<PIL.JpegImagePlugin.JpegImageFile image mode=RGB size=640x480 at 0x1DBADE93F08>\n",
      "Failed to erase imageDataset/noisy_136.jpg\n",
      "../DatasetL2/Project_Dataset_Unzip/Dataset/noisy_137.jpg\n",
      "<PIL.JpegImagePlugin.JpegImageFile image mode=RGB size=640x480 at 0x1DBADE934C8>\n",
      "Failed to erase imageDataset/noisy_137.jpg\n",
      "../DatasetL2/Project_Dataset_Unzip/Dataset/noisy_138.jpg\n",
      "<PIL.JpegImagePlugin.JpegImageFile image mode=RGB size=375x500 at 0x1DBADE932C8>\n",
      "Failed to erase imageDataset/noisy_138.jpg\n",
      "../DatasetL2/Project_Dataset_Unzip/Dataset/noisy_139.jpg\n",
      "<PIL.JpegImagePlugin.JpegImageFile image mode=RGB size=426x640 at 0x1DBADE93688>\n",
      "Failed to erase imageDataset/noisy_139.jpg\n",
      "../DatasetL2/Project_Dataset_Unzip/Dataset/noisy_140.jpg\n",
      "<PIL.JpegImagePlugin.JpegImageFile image mode=RGB size=500x333 at 0x1DBADE935C8>\n",
      "Failed to erase imageDataset/noisy_140.jpg\n",
      "../DatasetL2/Project_Dataset_Unzip/Dataset/noisy_141.jpg\n",
      "<PIL.JpegImagePlugin.JpegImageFile image mode=RGB size=640x345 at 0x1DBADE935C8>\n",
      "Failed to erase imageDataset/noisy_141.jpg\n",
      "../DatasetL2/Project_Dataset_Unzip/Dataset/noisy_142.jpg\n",
      "<PIL.JpegImagePlugin.JpegImageFile image mode=RGB size=640x480 at 0x1DBADE936C8>\n",
      "Failed to erase imageDataset/noisy_142.jpg\n",
      "../DatasetL2/Project_Dataset_Unzip/Dataset/noisy_143.jpg\n",
      "<PIL.JpegImagePlugin.JpegImageFile image mode=RGB size=640x580 at 0x1DBADE932C8>\n",
      "Failed to erase imageDataset/noisy_143.jpg\n",
      "../DatasetL2/Project_Dataset_Unzip/Dataset/noisy_144.jpg\n",
      "<PIL.JpegImagePlugin.JpegImageFile image mode=RGB size=640x480 at 0x1DBADE93188>\n",
      "Failed to erase imageDataset/noisy_144.jpg\n",
      "../DatasetL2/Project_Dataset_Unzip/Dataset/noisy_145.jpg\n",
      "<PIL.JpegImagePlugin.JpegImageFile image mode=RGB size=428x640 at 0x1DBADE93188>\n",
      "Failed to erase imageDataset/noisy_145.jpg\n",
      "../DatasetL2/Project_Dataset_Unzip/Dataset/noisy_146.jpg\n",
      "<PIL.JpegImagePlugin.JpegImageFile image mode=RGB size=640x427 at 0x1DBADE935C8>\n",
      "Failed to erase imageDataset/noisy_146.jpg\n",
      "../DatasetL2/Project_Dataset_Unzip/Dataset/noisy_147.jpg\n",
      "<PIL.JpegImagePlugin.JpegImageFile image mode=RGB size=333x500 at 0x1DBADE93248>\n",
      "Failed to erase imageDataset/noisy_147.jpg\n",
      "../DatasetL2/Project_Dataset_Unzip/Dataset/noisy_148.jpg\n",
      "<PIL.JpegImagePlugin.JpegImageFile image mode=RGB size=640x480 at 0x1DBADE936C8>\n",
      "Failed to erase imageDataset/noisy_148.jpg\n",
      "../DatasetL2/Project_Dataset_Unzip/Dataset/noisy_149.jpg\n",
      "<PIL.JpegImagePlugin.JpegImageFile image mode=RGB size=640x480 at 0x1DBADE93D08>\n",
      "Failed to erase imageDataset/noisy_149.jpg\n",
      "../DatasetL2/Project_Dataset_Unzip/Dataset/noisy_150.jpg\n",
      "<PIL.JpegImagePlugin.JpegImageFile image mode=RGB size=640x626 at 0x1DBADE934C8>\n",
      "Failed to erase imageDataset/noisy_150.jpg\n"
     ]
    }
   ],
   "source": [
    "#clean_dataset('../DatasetL2/Project_Dataset_Clean','../DatasetL2/Project_Dataset_Unzip')"
   ],
   "metadata": {
    "collapsed": false,
    "pycharm": {
     "name": "#%%\n"
    }
   }
  }
 ],
 "metadata": {
  "kernelspec": {
   "display_name": "Python 3",
   "language": "python",
   "name": "python3"
  },
  "language_info": {
   "codemirror_mode": {
    "name": "ipython",
    "version": 2
   },
   "file_extension": ".py",
   "mimetype": "text/x-python",
   "name": "python",
   "nbconvert_exporter": "python",
   "pygments_lexer": "ipython2",
   "version": "2.7.6"
  }
 },
 "nbformat": 4,
 "nbformat_minor": 0
}