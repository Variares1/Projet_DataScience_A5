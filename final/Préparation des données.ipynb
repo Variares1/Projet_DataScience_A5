{
 "cells": [
  {
   "cell_type": "markdown",
   "source": [
    "# Récupération et Préparation des données\n",
    "\n",
    "|Auteur|Centre|\n",
    "|---|---|\n",
    "|ACQUART Quentin|Aix-en-Provence|\n",
    "|DIMEGLIO Nicolas|Aix-en-Provence|\n",
    "|SIXDENIER Alexandre|Aix-en-Provence|\n",
    "|VESSERON Alexandre|Aix-en-Provence|"
   ],
   "metadata": {
    "collapsed": false
   }
  },
  {
   "cell_type": "markdown",
   "source": [
    "# Import des différentes bibliothèques"
   ],
   "metadata": {
    "collapsed": false
   }
  },
  {
   "cell_type": "code",
   "execution_count": 1,
   "outputs": [],
   "source": [
    "import zipfile\n",
    "import os\n",
    "from PIL import Image as Image"
   ],
   "metadata": {
    "collapsed": false,
    "pycharm": {
     "name": "#%%\n"
    }
   }
  },
  {
   "cell_type": "markdown",
   "source": [
    "# Téléchargement des données et dezippage"
   ],
   "metadata": {
    "collapsed": false
   }
  },
  {
   "cell_type": "code",
   "execution_count": 2,
   "outputs": [],
   "source": [
    "path_to_zip_file = \"Dataset projet\" #\"C:\\\\Users\\\\nicos\\\\PycharmProjects\\\\Projet_DataScience_A5\\\\Dataset projet\"\n",
    "directory_to_extract_to = \"C:\\\\Users\\\\nicos\\\\PycharmProjects\\\\Projet_DataScience_A5\\\\Dataset\""
   ],
   "metadata": {
    "collapsed": false,
    "pycharm": {
     "name": "#%%\n"
    }
   }
  },
  {
   "cell_type": "code",
   "execution_count": 3,
   "outputs": [
    {
     "ename": "FileNotFoundError",
     "evalue": "[WinError 3] Le chemin d’accès spécifié est introuvable: 'Dataset projet'",
     "output_type": "error",
     "traceback": [
      "\u001B[1;31m---------------------------------------------------------------------------\u001B[0m",
      "\u001B[1;31mFileNotFoundError\u001B[0m                         Traceback (most recent call last)",
      "\u001B[1;32m~\\AppData\\Local\\Temp/ipykernel_28808/3267141425.py\u001B[0m in \u001B[0;36m<module>\u001B[1;34m\u001B[0m\n\u001B[0;32m      1\u001B[0m \u001B[0mdata_dir\u001B[0m \u001B[1;33m=\u001B[0m \u001B[0mdirectory_to_extract_to\u001B[0m\u001B[1;33m\u001B[0m\u001B[1;33m\u001B[0m\u001B[0m\n\u001B[1;32m----> 2\u001B[1;33m \u001B[1;32mfor\u001B[0m \u001B[0mdirectory\u001B[0m \u001B[1;32min\u001B[0m \u001B[0mos\u001B[0m\u001B[1;33m.\u001B[0m\u001B[0mlistdir\u001B[0m\u001B[1;33m(\u001B[0m\u001B[0mpath_to_zip_file\u001B[0m\u001B[1;33m)\u001B[0m\u001B[1;33m:\u001B[0m\u001B[1;33m\u001B[0m\u001B[1;33m\u001B[0m\u001B[0m\n\u001B[0m\u001B[0;32m      3\u001B[0m     \u001B[0mprint\u001B[0m\u001B[1;33m(\u001B[0m\u001B[0mdirectory\u001B[0m\u001B[1;33m)\u001B[0m\u001B[1;33m\u001B[0m\u001B[1;33m\u001B[0m\u001B[0m\n\u001B[0;32m      4\u001B[0m     \u001B[1;32mwith\u001B[0m \u001B[0mzipfile\u001B[0m\u001B[1;33m.\u001B[0m\u001B[0mZipFile\u001B[0m\u001B[1;33m(\u001B[0m\u001B[0mpath_to_zip_file\u001B[0m \u001B[1;33m+\u001B[0m \u001B[1;34m\"\\\\\"\u001B[0m \u001B[1;33m+\u001B[0m \u001B[0mdirectory\u001B[0m\u001B[1;33m,\u001B[0m \u001B[1;34m'r'\u001B[0m\u001B[1;33m)\u001B[0m \u001B[1;32mas\u001B[0m \u001B[0mzip_ref\u001B[0m\u001B[1;33m:\u001B[0m\u001B[1;33m\u001B[0m\u001B[1;33m\u001B[0m\u001B[0m\n\u001B[0;32m      5\u001B[0m         \u001B[0mzip_ref\u001B[0m\u001B[1;33m.\u001B[0m\u001B[0mextractall\u001B[0m\u001B[1;33m(\u001B[0m\u001B[0mdirectory_to_extract_to\u001B[0m\u001B[1;33m)\u001B[0m\u001B[1;33m\u001B[0m\u001B[1;33m\u001B[0m\u001B[0m\n",
      "\u001B[1;31mFileNotFoundError\u001B[0m: [WinError 3] Le chemin d’accès spécifié est introuvable: 'Dataset projet'"
     ]
    }
   ],
   "source": [
    "data_dir = directory_to_extract_to\n",
    "for directory in os.listdir(path_to_zip_file):\n",
    "    print(directory)\n",
    "    with zipfile.ZipFile(path_to_zip_file + \"\\\\\" + directory, 'r') as zip_ref:\n",
    "        zip_ref.extractall(directory_to_extract_to)"
   ],
   "metadata": {
    "collapsed": false,
    "pycharm": {
     "name": "#%%\n"
    }
   }
  },
  {
   "cell_type": "markdown",
   "source": [
    "# Première préparation des données afin de les rendre exploitables"
   ],
   "metadata": {
    "collapsed": false,
    "pycharm": {
     "name": "#%% md\n"
    }
   }
  },
  {
   "cell_type": "code",
   "execution_count": null,
   "outputs": [],
   "source": [
    "for directory in os.listdir(directory_to_extract_to):\n",
    "    print(directory_to_extract_to + \"\\\\\" + directory)\n",
    "    for file in os.listdir(directory_to_extract_to + \"\\\\\" + directory):\n",
    "        image = None\n",
    "        try:\n",
    "            image = Image.open(directory_to_extract_to + \"\\\\\" + directory + \"\\\\\" + file)\n",
    "            data = list(image.getdata())\n",
    "            image_without_exif = Image.new(image.mode, image.size)\n",
    "            image_without_exif.putdata(data)\n",
    "            image_without_exif.save(directory_to_extract_to + \"\\\\\" + directory + \"\\\\\" + file)\n",
    "        except:\n",
    "            if file == \"desktop.init\":\n",
    "                os.remove(file)\n",
    "            else:\n",
    "                print(directory_to_extract_to + \"\\\\\" + directory + \"\\\\\" + file)\n",
    "                print(image)\n",
    "                image.close()\n",
    "                os.remove(directory_to_extract_to + \"\\\\\" + directory + \"\\\\\" + file)\n",
    "            pass"
   ],
   "metadata": {
    "collapsed": false,
    "pycharm": {
     "name": "#%%\n"
    }
   }
  },
  {
   "cell_type": "markdown",
   "source": [
    "# Data Set de test Intermédiaire"
   ],
   "metadata": {
    "collapsed": false,
    "pycharm": {
     "name": "#%% md\n"
    }
   }
  },
  {
   "cell_type": "code",
   "execution_count": null,
   "outputs": [],
   "source": [
    "import shutil\n",
    "path_test = \"C:\\\\Users\\\\nicos\\\\PycharmProjects\\\\Projet_DataScience_A5\\\\Dataset\"\n",
    "extract = \"C:\\\\Users\\\\nicos\\\\PycharmProjects\\\\Projet_DataScience_A5\\\\Dataset_Test\"\n",
    "for directory in os.listdir(path_test):\n",
    "    photo = 0\n",
    "    for file in os.listdir(path_test + \"\\\\\" + directory):\n",
    "        if not os.path.exists(extract + \"\\\\\" + directory):\n",
    "            os.mkdir(extract + \"\\\\\" + directory)\n",
    "        if photo == 8 :\n",
    "            shutil.copy2(path_test + \"\\\\\" + directory + \"\\\\\" + file, extract + \"\\\\\" + directory)\n",
    "            photo = 0\n",
    "        else :\n",
    "            photo = photo + 1"
   ],
   "metadata": {
    "collapsed": false,
    "pycharm": {
     "name": "#%%\n"
    }
   }
  }
 ],
 "metadata": {
  "kernelspec": {
   "display_name": "Python 3",
   "language": "python",
   "name": "python3"
  },
  "language_info": {
   "codemirror_mode": {
    "name": "ipython",
    "version": 2
   },
   "file_extension": ".py",
   "mimetype": "text/x-python",
   "name": "python",
   "nbconvert_exporter": "python",
   "pygments_lexer": "ipython2",
   "version": "2.7.6"
  }
 },
 "nbformat": 4,
 "nbformat_minor": 0
}