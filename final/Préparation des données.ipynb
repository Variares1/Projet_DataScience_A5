{
 "cells": [
  {
   "cell_type": "markdown",
   "source": [
    "# Récupération et Préparation des données\n",
    "\n",
    "|Auteur|Centre|\n",
    "|---|---|\n",
    "|ACQUART Quentin|Aix-en-Provence|\n",
    "|DIMEGLIO Nicolas|Aix-en-Provence|\n",
    "|SIXDENIER Alexandre|Aix-en-Provence|\n",
    "|VESSERON Alexandre|Aix-en-Provence|"
   ],
   "metadata": {
    "collapsed": false
   }
  },
  {
   "cell_type": "markdown",
   "source": [
    "# Import des différentes bibliothèques"
   ],
   "metadata": {
    "collapsed": false
   }
  },
  {
   "cell_type": "code",
   "execution_count": 22,
   "outputs": [],
   "source": [
    "import zipfile\n",
    "import os\n",
    "import shutil\n",
    "from random import random\n",
    "from PIL import Image as Image"
   ],
   "metadata": {
    "collapsed": false,
    "pycharm": {
     "name": "#%%\n"
    }
   }
  },
  {
   "cell_type": "markdown",
   "source": [
    "# Téléchargement des données et dezippage"
   ],
   "metadata": {
    "collapsed": false
   }
  },
  {
   "cell_type": "code",
   "execution_count": 23,
   "outputs": [],
   "source": [
    "dataset_dir_path = \"../Dataset\"\n",
    "zip_dataset_path = \"../Dataset/Project_Dataset_Zip\"\n",
    "extracted_dataset_path = \"../Dataset/Project_Dataset_Unzip\"\n",
    "clean_dataset_path = \"../Dataset/Project_Dataset_Clean\"\n",
    "light_dataset_path = \"../Dataset/Project_Dataset_Test\""
   ],
   "metadata": {
    "collapsed": false,
    "pycharm": {
     "name": "#%%\n"
    }
   }
  },
  {
   "cell_type": "code",
   "execution_count": 24,
   "outputs": [],
   "source": [
    "if not os.path.exists(extracted_dataset_path):\n",
    "    for directory in os.listdir(zip_dataset_path):\n",
    "        print(directory)\n",
    "        with zipfile.ZipFile(zip_dataset_path + \"/\" + directory, 'r') as zip_ref:\n",
    "            zip_ref.extractall(extracted_dataset_path)"
   ],
   "metadata": {
    "collapsed": false,
    "pycharm": {
     "name": "#%%\n"
    }
   }
  },
  {
   "cell_type": "markdown",
   "source": [
    "# Première préparation des données afin de les rendre exploitables"
   ],
   "metadata": {
    "collapsed": false,
    "pycharm": {
     "name": "#%% md\n"
    }
   }
  },
  {
   "cell_type": "code",
   "execution_count": 43,
   "outputs": [
    {
     "name": "stdout",
     "output_type": "stream",
     "text": [
      "../Dataset/Project_Dataset_Unzip/Painting\n",
      "../Dataset/Project_Dataset_Unzip/Photo\n",
      "../Dataset/Project_Dataset_Unzip/Schematics\n",
      "../Dataset/Project_Dataset_Unzip/Sketch\n",
      "../Dataset/Project_Dataset_Unzip/Text\n"
     ]
    }
   ],
   "source": [
    "for directory in os.listdir(extracted_dataset_path):\n",
    "    print(extracted_dataset_path + \"/\" + directory)\n",
    "    if not os.path.exists(clean_dataset_path):\n",
    "        os.mkdir(clean_dataset_path)\n",
    "    if not os.path.exists(clean_dataset_path + \"/\" + directory):\n",
    "        os.mkdir(clean_dataset_path + \"/\" + directory)\n",
    "    for file in os.listdir(extracted_dataset_path + \"/\" + directory):\n",
    "        if not os.path.exists(clean_dataset_path + \"/\"+ directory + \"/\" + file):\n",
    "            image = None\n",
    "            try:\n",
    "                image = Image.open(extracted_dataset_path + \"/\" + directory + \"/\" + file)\n",
    "                data = list(image.getdata())\n",
    "                image_without_exif = Image.new(image.mode, image.size)\n",
    "                image_without_exif.putdata(data)\n",
    "                image_without_exif.save(clean_dataset_path + \"/\" + directory + \"/\" + file)\n",
    "            except:\n",
    "                if file == \"desktop.ini\":\n",
    "                    os.remove(extracted_dataset_path + \"/\" + directory + \"/\" + file)\n",
    "                else:\n",
    "                    print(extracted_dataset_path + \"/\" + directory + \"/\" + file)\n",
    "                    print(image)\n",
    "                    if not os.path.exists(\"../Dataset/Error_file.log\"):\n",
    "                        with open('../Dataset/Error_file.log','x') as fp :\n",
    "                            fp.close()\n",
    "                    else:\n",
    "                        fp = open('../Dataset/Error_file.log','a')\n",
    "                        fp.write('\\n'+extracted_dataset_path + \"/\" + directory + \"/\" + file)\n",
    "                        fp.write('\\n'+image)\n",
    "                        fp.close()\n",
    "                    image.close()\n",
    "                    os.remove(extracted_dataset_path + \"/\" + directory + \"/\" + file)\n",
    "                pass"
   ],
   "metadata": {
    "collapsed": false,
    "pycharm": {
     "name": "#%%\n"
    }
   }
  },
  {
   "cell_type": "markdown",
   "source": [
    "# Data Set de test Intermédiaire"
   ],
   "metadata": {
    "collapsed": false,
    "pycharm": {
     "name": "#%% md\n"
    }
   }
  },
  {
   "cell_type": "code",
   "execution_count": 60,
   "outputs": [],
   "source": [
    "if not os.path.exists(light_dataset_path):\n",
    "    os.mkdir(light_dataset_path)\n",
    "for directory in os.listdir(clean_dataset_path):\n",
    "    for file in os.listdir(clean_dataset_path + \"/\" + directory):\n",
    "        random_number = random()\n",
    "        if not os.path.exists(light_dataset_path + \"/\" + directory):\n",
    "            os.mkdir(light_dataset_path + \"/\" + directory)\n",
    "        if random_number < 0.2 :\n",
    "            shutil.copy2(clean_dataset_path + \"/\" + directory + \"/\" + file, light_dataset_path + \"/\" + directory)\n",
    "            random_number = 0"
   ],
   "metadata": {
    "collapsed": false,
    "pycharm": {
     "name": "#%%\n"
    }
   }
  },
  {
   "cell_type": "code",
   "execution_count": 59,
   "outputs": [],
   "source": [
    "#Uncomment to clear light_dataset\n",
    "#for directory in os.listdir(light_dataset_path):\n",
    "#    for file in os.listdir(light_dataset_path + \"/\" + directory):\n",
    "#        os.remove(light_dataset_path + \"/\" + directory + \"/\" + file)"
   ],
   "metadata": {
    "collapsed": false,
    "pycharm": {
     "name": "#%%\n"
    }
   }
  }
 ],
 "metadata": {
  "kernelspec": {
   "display_name": "Python 3",
   "language": "python",
   "name": "python3"
  },
  "language_info": {
   "codemirror_mode": {
    "name": "ipython",
    "version": 2
   },
   "file_extension": ".py",
   "mimetype": "text/x-python",
   "name": "python",
   "nbconvert_exporter": "python",
   "pygments_lexer": "ipython2",
   "version": "2.7.6"
  }
 },
 "nbformat": 4,
 "nbformat_minor": 0
}