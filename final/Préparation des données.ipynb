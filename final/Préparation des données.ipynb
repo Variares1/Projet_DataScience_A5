{
 "cells": [
  {
   "cell_type": "markdown",
   "source": [
    "# Récupération et Préparation des données\n",
    "\n",
    "|Auteur|Centre|\n",
    "|---|---|\n",
    "|ACQUART Quentin|Aix-en-Provence|\n",
    "|DIMEGLIO Nicolas|Aix-en-Provence|\n",
    "|SIXDENIER Alexandre|Aix-en-Provence|\n",
    "|VESSERON Alexandre|Aix-en-Provence|"
   ],
   "metadata": {
    "collapsed": false
   }
  },
  {
   "cell_type": "markdown",
   "source": [
    "# Import des différentes bibliothèques"
   ],
   "metadata": {
    "collapsed": false
   }
  },
  {
   "cell_type": "code",
   "execution_count": null,
   "outputs": [],
   "source": [
    "import zipfile\n",
    "import os\n",
    "from PIL import Image as Image"
   ],
   "metadata": {
    "collapsed": false,
    "pycharm": {
     "name": "#%%\n"
    }
   }
  },
  {
   "cell_type": "markdown",
   "source": [
    "# Téléchargement des données et dezippage"
   ],
   "metadata": {
    "collapsed": false
   }
  },
  {
   "cell_type": "code",
   "execution_count": null,
   "outputs": [],
   "source": [
    "path_to_zip_file = \"Dataset projet\" #\"C:\\\\Users\\\\nicos\\\\PycharmProjects\\\\Projet_DataScience_A5\\\\Dataset projet\"\n",
    "directory_to_extract_to = \"C:\\\\Users\\\\nicos\\\\PycharmProjects\\\\Projet_DataScience_A5\\\\Dataset\""
   ],
   "metadata": {
    "collapsed": false,
    "pycharm": {
     "name": "#%%\n"
    }
   }
  },
  {
   "cell_type": "code",
   "execution_count": null,
   "outputs": [],
   "source": [
    "data_dir = directory_to_extract_to\n",
    "for directory in os.listdir(path_to_zip_file):\n",
    "    print(directory)\n",
    "    with zipfile.ZipFile(path_to_zip_file + \"\\\\\" + directory, 'r') as zip_ref:\n",
    "        zip_ref.extractall(directory_to_extract_to)"
   ],
   "metadata": {
    "collapsed": false,
    "pycharm": {
     "name": "#%%\n"
    }
   }
  },
  {
   "cell_type": "markdown",
   "source": [
    "# Première préparation des données afin de les rendre exploitables"
   ],
   "metadata": {
    "collapsed": false,
    "pycharm": {
     "name": "#%% md\n"
    }
   }
  },
  {
   "cell_type": "code",
   "execution_count": null,
   "outputs": [],
   "source": [
    "for directory in os.listdir(directory_to_extract_to):\n",
    "    print(directory_to_extract_to + \"\\\\\" + directory)\n",
    "    for file in os.listdir(directory_to_extract_to + \"\\\\\" + directory):\n",
    "        image = None\n",
    "        try:\n",
    "            image = Image.open(directory_to_extract_to + \"\\\\\" + directory + \"\\\\\" + file)\n",
    "            data = list(image.getdata())\n",
    "            image_without_exif = Image.new(image.mode, image.size)\n",
    "            image_without_exif.putdata(data)\n",
    "            image_without_exif.save(directory_to_extract_to + \"\\\\\" + directory + \"\\\\\" + file)\n",
    "        except:\n",
    "            if file == \"desktop.init\":\n",
    "                os.remove(file)\n",
    "            else:\n",
    "                print(directory_to_extract_to + \"\\\\\" + directory + \"\\\\\" + file)\n",
    "                print(image)\n",
    "                image.close()\n",
    "                os.remove(directory_to_extract_to + \"\\\\\" + directory + \"\\\\\" + file)\n",
    "            pass"
   ],
   "metadata": {
    "collapsed": false,
    "pycharm": {
     "name": "#%%\n"
    }
   }
  }
 ],
 "metadata": {
  "kernelspec": {
   "display_name": "Python 3",
   "language": "python",
   "name": "python3"
  },
  "language_info": {
   "codemirror_mode": {
    "name": "ipython",
    "version": 2
   },
   "file_extension": ".py",
   "mimetype": "text/x-python",
   "name": "python",
   "nbconvert_exporter": "python",
   "pygments_lexer": "ipython2",
   "version": "2.7.6"
  }
 },
 "nbformat": 4,
 "nbformat_minor": 0
}