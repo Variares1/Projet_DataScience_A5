{
 "cells": [
  {
   "cell_type": "markdown",
   "source": [
    "# Récupération et Préparation des données\n",
    "\n",
    "|Auteur|Centre|\n",
    "|---|---|\n",
    "|ACQUART Quentin|Aix-en-Provence|\n",
    "|DIMEGLIO Nicolas|Aix-en-Provence|\n",
    "|SIXDENIER Alexandre|Aix-en-Provence|\n",
    "|VESSERON Alexandre|Aix-en-Provence|"
   ],
   "metadata": {
    "collapsed": false
   }
  },
  {
   "cell_type": "markdown",
   "source": [
    "## Import des différentes bibliothèques"
   ],
   "metadata": {
    "collapsed": false
   }
  },
  {
   "cell_type": "code",
   "execution_count": 2,
   "outputs": [],
   "source": [
    "import zipfile\n",
    "import os\n",
    "import shutil\n",
    "import random\n",
    "from PIL import Image as Image"
   ],
   "metadata": {
    "collapsed": false,
    "pycharm": {
     "name": "#%%\n"
    }
   }
  },
  {
   "cell_type": "markdown",
   "source": [
    "## Téléchargement des données et dezippage\n",
    "\n",
    "\n",
    "1. Téléchargez les fichiers zip [Datasets Livrable 1](https://cesifr-my.sharepoint.com/personal/bcohen_cesi_fr/_layouts/15/onedrive.aspx?id=%2Fpersonal%2Fbcohen%5Fcesi%5Ffr%2FDocuments%2FOption%20Data%20Science%2FDataset%20projet&originalPath=aHR0cHM6Ly9jZXNpZnItbXkuc2hhcmVwb2ludC5jb20vOmY6L2cvcGVyc29uYWwvYmNvaGVuX2Nlc2lfZnIvRW1na3k5Sm4xQnhHbE84TzZVMDVpYThCSEhkd2JfR0hFd1E3MVNkZTBqbjZDQT9ydGltZT1MS2hHamJ5QjJVZw)\n",
    "Veuillez déposer ces fichiers Zip dans le répertoire `../Dataset/Project_Dataset_Zip`\n",
    "<a id='section_1'></a>\n",
    "### Architecture des dossiers :\n",
    "- >../Dataset\n",
    "     - >/Project_Dataset_Zip\n",
    "\n",
    "\n",
    "2. Respectez l'architecture ci-dessus puis lancez le jupyter\n",
    "<br><br>\n",
    "<div style=\"color:red\">Attention cette action peut être longue <b>(+1h)</b></div>"
   ],
   "metadata": {
    "collapsed": false
   }
  },
  {
   "cell_type": "code",
   "execution_count": 3,
   "outputs": [],
   "source": [
    "#Path\n",
    "dataset_dir_path = \"../Dataset\"\n",
    "zip_dataset_path = \"../Dataset/Project_Dataset_Zip\"\n",
    "extracted_dataset_path = \"../Dataset/Project_Dataset_Unzip\"\n",
    "clean_dataset_path = \"../Dataset/Project_Dataset_Clean\"\n",
    "light_dataset_path = \"../Dataset/Project_Dataset_Test\"\n",
    "dataset_size = 0.2"
   ],
   "metadata": {
    "collapsed": false,
    "pycharm": {
     "name": "#%%\n"
    }
   }
  },
  {
   "cell_type": "code",
   "execution_count": 3,
   "outputs": [],
   "source": [
    "#Extraction des dossiers Zip dans ../Dataset/Project_Dataset_Unzip\n",
    "def extract_zip(zip_path,extract_path):\n",
    "    if not os.path.exists(extract_path):\n",
    "        os.mkdir(extract_path)\n",
    "    for directory in os.listdir(zip_path):\n",
    "        print(directory)\n",
    "        with zipfile.ZipFile(zip_path + \"/\" + directory, 'r') as zip_ref:\n",
    "            zip_ref.extractall(extract_path)"
   ],
   "metadata": {
    "collapsed": false,
    "pycharm": {
     "name": "#%%\n"
    }
   }
  },
  {
   "cell_type": "markdown",
   "source": [
    "## Première préparation des données afin de les rendre exploitables\n",
    "Nettoyage du jeu de données en ouvrant chaque image afin de la copier sans métadata dans `../Dataset/Project_Dataset_Clean`\n",
    "<br>Toute les images corrompues/invalides ne seront pas copiés et un fichier de log `Error_file.log` sera généré dans le dossier `..\\Dataset`"
   ],
   "metadata": {
    "collapsed": false,
    "pycharm": {
     "name": "#%% md\n"
    }
   }
  },
  {
   "cell_type": "code",
   "execution_count": 4,
   "outputs": [],
   "source": [
    "def clean_dataset(dataset_path,extract_path):\n",
    "    for directory in os.listdir(extract_path):\n",
    "        print(extract_path + \"/\" + directory)\n",
    "        if not os.path.exists(dataset_path):\n",
    "            os.mkdir(dataset_path)\n",
    "        if not os.path.exists(dataset_path + \"/\" + directory):\n",
    "            os.mkdir(dataset_path + \"/\" + directory)\n",
    "        for file in os.listdir(extract_path + \"/\" + directory):\n",
    "            if not os.path.exists(dataset_path + \"/\"+ directory + \"/\" + file):\n",
    "                image = None\n",
    "                try:\n",
    "                    image = Image.open(extract_path + \"/\" + directory + \"/\" + file)\n",
    "                    data = list(image.getdata())\n",
    "                    image_without_exif = Image.new(image.mode, image.size)\n",
    "                    image_without_exif.putdata(data)\n",
    "                    image_without_exif.save(clean_dataset_path + \"/\" + directory + \"/\" + file)\n",
    "                except:\n",
    "                    if file == \"desktop.ini\":\n",
    "                        os.remove(extract_path + \"/\" + directory + \"/\" + file)\n",
    "                    else:\n",
    "                        print(extract_path + \"/\" + directory + \"/\" + file)\n",
    "                        print(image)\n",
    "                        if not os.path.exists(\"../Dataset/Error_file.log\"):\n",
    "                            fp = open('../Dataset/Error_file.log','w')\n",
    "                            fp.close()\n",
    "                        fp = open('../Dataset/Error_file.log','a')\n",
    "                        fp.write('\\n'+extract_path + \"/\" + directory + \"/\" + file)\n",
    "                        fp.write('\\n'+str(image))\n",
    "                        fp.close()\n",
    "                        image.close()\n",
    "                        #os.remove(extract_path + \"/\" + directory + \"/\" + file)\n",
    "                        try:\n",
    "                            os.remove(dataset_path + \"/\" + directory + \"/\" + file)\n",
    "                        except:\n",
    "                            print(\"Failed to erase image\"+\"/\"+directory+\"/\"+file)\n",
    "                    pass"
   ],
   "metadata": {
    "collapsed": false,
    "pycharm": {
     "name": "#%%\n"
    }
   }
  },
  {
   "cell_type": "markdown",
   "source": [
    "## Data Set de test Intermédiaire\n",
    "Création d'un dataset plus léger, en récupérant aléatoirement des images dans le dataset\n",
    "<br> Par défaut la valeur est de 20%.\n",
    "<br> Pour changer la taille du dataset veuillez éditer la variable `dataset_size`"
   ],
   "metadata": {
    "collapsed": false,
    "pycharm": {
     "name": "#%% md\n"
    }
   }
  },
  {
   "cell_type": "code",
   "execution_count": 5,
   "outputs": [],
   "source": [
    "def dataset_test(light_dataset_path,dataset_path,dataset_size = 0.2):\n",
    "    if not os.path.exists(light_dataset_path):\n",
    "        os.mkdir(light_dataset_path)\n",
    "    for directory in os.listdir(dataset_path):\n",
    "        for file in os.listdir(dataset_path + \"/\" + directory):\n",
    "            random_number = random()\n",
    "            if not os.path.exists(light_dataset_path + \"/\" + directory):\n",
    "                os.mkdir(light_dataset_path + \"/\" + directory)\n",
    "            if random_number < dataset_size :\n",
    "                shutil.copy2(dataset_path + \"/\" + directory + \"/\" + file, light_dataset_path + \"/\" + directory)"
   ],
   "metadata": {
    "collapsed": false,
    "pycharm": {
     "name": "#%%\n"
    }
   }
  },
  {
   "cell_type": "markdown",
   "source": [
    "Code pour supprimer le `light_dataset` afin de le regénérer"
   ],
   "metadata": {
    "collapsed": false,
    "pycharm": {
     "name": "#%% md\n"
    }
   }
  },
  {
   "cell_type": "code",
   "execution_count": 6,
   "outputs": [],
   "source": [
    "#Uncomment to clear light_dataset\n",
    "def remove_data_set(dataset_path):\n",
    "    for directory in os.listdir(dataset_path):\n",
    "        for file in os.listdir(dataset_path + \"/\" + directory):\n",
    "            os.remove(dataset_path + \"/\" + directory + \"/\" + file)"
   ],
   "metadata": {
    "collapsed": false,
    "pycharm": {
     "name": "#%%\n"
    }
   }
  },
  {
   "cell_type": "code",
   "execution_count": 6,
   "outputs": [],
   "source": [
    "binary_dataset_dir_path = \"../Dataset_Binary_Project\"\n",
    "dataset_to_extract_path = \"../Dataset/Project_Dataset_Clean\"\n",
    "binary_dataset_test_path = \"../Dataset_Binary_Project_test\"\n",
    "class_to_compare = \"Photo\""
   ],
   "metadata": {
    "collapsed": false,
    "pycharm": {
     "name": "#%%\n"
    }
   }
  },
  {
   "cell_type": "code",
   "execution_count": 8,
   "outputs": [],
   "source": [
    "def create_binary_dataset(dataset_to_extract,binary_dataset_dir_path, class_to_compare):\n",
    "    if not os.path.exists(binary_dataset_dir_path):\n",
    "        os.mkdir(binary_dataset_dir_path)\n",
    "\n",
    "    for directory in os.listdir(dataset_to_extract):\n",
    "        print(dataset_to_extract + \"/\" + directory)\n",
    "        if directory == class_to_compare:\n",
    "            continue\n",
    "\n",
    "        print(\"Check directory \" + binary_dataset_dir_path + \"/\" + directory + \"_\" + class_to_compare)\n",
    "        if not os.path.exists(binary_dataset_dir_path + \"/\" + directory + \"_\" + class_to_compare):\n",
    "            os.mkdir(binary_dataset_dir_path + \"/\" + directory + \"_\" + class_to_compare)\n",
    "            print(\"Create directory \" + binary_dataset_dir_path + \"/\" + directory + \"_\" + class_to_compare)\n",
    "\n",
    "        print(\"Check directory \" + binary_dataset_dir_path + \"/\" + directory + \"_\" + class_to_compare + \"/\" + directory)\n",
    "        if not os.path.exists(binary_dataset_dir_path + \"/\" + directory + \"_\" + class_to_compare + \"/\" + directory):\n",
    "            os.mkdir(binary_dataset_dir_path + \"/\" + directory + \"_\" + class_to_compare + \"/\" + directory)\n",
    "            print(\"Create directory \" + binary_dataset_dir_path + \"/\" + directory + \"_\" + class_to_compare + \"/\" + directory)\n",
    "\n",
    "        print(\"Check directory \" + binary_dataset_dir_path + \"/\" + directory + \"_\" + class_to_compare + \"/\" + class_to_compare)\n",
    "        if not os.path.exists(binary_dataset_dir_path + \"/\" + directory + \"_\" + class_to_compare + \"/\" + class_to_compare):\n",
    "            os.mkdir(binary_dataset_dir_path + \"/\" + directory + \"_\" + class_to_compare + \"/\" + class_to_compare)\n",
    "            print(\"Create directory \" + binary_dataset_dir_path + \"/\" + directory + \"_\" + class_to_compare + \"/\" + class_to_compare)\n",
    "\n",
    "        print(\"Copy file in \" + binary_dataset_dir_path + \"/\" + directory + \"_\" + class_to_compare + \"/\" + directory)\n",
    "        for file in os.listdir(dataset_to_extract + \"/\" + directory):\n",
    "            if not os.path.exists(binary_dataset_dir_path + \"/\" + directory + \"_\" + class_to_compare + \"/\" + directory + \"/\" + file):\n",
    "                shutil.copy2(dataset_to_extract + \"/\" + directory + \"/\" + file, binary_dataset_dir_path + \"/\" + directory + \"_\" + class_to_compare + \"/\" + directory)\n",
    "        print(\"Finished copy\")\n",
    "\n",
    "        print(\"Copy file in \" + binary_dataset_dir_path + \"/\" + directory + \"_\" + class_to_compare + \"/\" + class_to_compare)\n",
    "        for file in os.listdir(dataset_to_extract + \"/\" + class_to_compare):\n",
    "            if not os.path.exists(binary_dataset_dir_path + \"/\" + directory + \"_\" + class_to_compare + \"/\" + class_to_compare + \"/\" + file):\n",
    "                shutil.copy2(dataset_to_extract + \"/\" + class_to_compare + \"/\" + file, binary_dataset_dir_path + \"/\" + directory + \"_\" + class_to_compare + \"/\" + class_to_compare)\n",
    "        print(\"Finished copy\")"
   ],
   "metadata": {
    "collapsed": false,
    "pycharm": {
     "name": "#%%\n"
    }
   }
  },
  {
   "cell_type": "code",
   "execution_count": 28,
   "outputs": [],
   "source": [
    "def create_binary_dataset_test(dataset_to_extract,binary_dataset_test, class_to_compare, balanced=False):\n",
    "    if not os.path.exists(binary_dataset_test):\n",
    "        os.mkdir(binary_dataset_test)\n",
    "\n",
    "    if not os.path.exists(binary_dataset_test + \"/\" + class_to_compare):\n",
    "        os.mkdir(binary_dataset_test + \"/\" + class_to_compare)\n",
    "\n",
    "    if not os.path.exists(binary_dataset_test + \"/all_pictures\"):\n",
    "        os.mkdir(binary_dataset_test + \"/all_pictures\")\n",
    "\n",
    "    nb_classes = len(os.listdir(dataset_to_extract))\n",
    "    half_dataset = len(os.listdir(dataset_to_extract+\"/\"+class_to_compare))\n",
    "    nb_files_by_directory = int(half_dataset/(nb_classes-1))\n",
    "\n",
    "    if balanced:\n",
    "        print(\"Creating Balanced dataset with \" + str(nb_files_by_directory) + \" files per class\")\n",
    "    else:\n",
    "        print(\"Creating Unbalanced dataset\")\n",
    "\n",
    "    for directory in os.listdir(dataset_to_extract):\n",
    "        print(dataset_to_extract + \"/\" + directory)\n",
    "\n",
    "        if directory == class_to_compare:\n",
    "            print(\"Skipping class : \",class_to_compare)\n",
    "            continue\n",
    "\n",
    "        if balanced :\n",
    "            compteur = 0\n",
    "            print(\"Copy file in \" + binary_dataset_test + \"/all_pictures\")\n",
    "            for file in shuffle_dataset(os.listdir(dataset_to_extract + \"/\" + directory))[:nb_files_by_directory-1]:\n",
    "                if not os.path.exists(binary_dataset_test + \"/all_pictures/\" + file):\n",
    "                    shutil.copy2(dataset_to_extract + \"/\" + directory + \"/\" + file, binary_dataset_test + \"/all_pictures\")\n",
    "                    compteur += 1\n",
    "            print(\"Finished copy of : \" + str(compteur) + \" files\")\n",
    "        else:\n",
    "            print(\"Copy file in \" + binary_dataset_test + \"/all_pictures\")\n",
    "            for file in os.listdir(dataset_to_extract + \"/\" + directory):\n",
    "                if not os.path.exists(binary_dataset_test + \"/all_pictures/\" + file):\n",
    "                    shutil.copy2(dataset_to_extract + \"/\" + directory + \"/\" + file, binary_dataset_test + \"/all_pictures\")\n",
    "                    compteur += 1\n",
    "            print(\"Finished copy of : \" + str(compteur) + \" files\")\n",
    "\n",
    "    compteur = 0\n",
    "    print(\"Copy file in \" + binary_dataset_test + \"/\" + class_to_compare)\n",
    "    for file in os.listdir(dataset_to_extract + \"/\" + class_to_compare):\n",
    "        if not os.path.exists(binary_dataset_test + \"/\" + class_to_compare + \"/\" + file):\n",
    "            shutil.copy2(dataset_to_extract + \"/\" + class_to_compare + \"/\" + file, binary_dataset_test + \"/\" + class_to_compare)\n",
    "            compteur += 1\n",
    "    print(\"Finished copy of : \" + str(compteur) + \" files\")\n",
    "\n",
    "def get_random():\n",
    "    return 0.1\n",
    "\n",
    "def shuffle_dataset(directory):\n",
    "    random.shuffle(directory, get_random)\n",
    "    return directory"
   ],
   "metadata": {
    "collapsed": false,
    "pycharm": {
     "name": "#%%\n"
    }
   }
  },
  {
   "cell_type": "markdown",
   "source": [
    "#### Livrable 1\n",
    "\n",
    "Les fonction ci-dessous nous permet de nettoyer et extraire les données du premier jeu de données pour le livrable 1."
   ],
   "metadata": {
    "collapsed": false,
    "pycharm": {
     "name": "#%% md\n"
    }
   }
  },
  {
   "cell_type": "code",
   "execution_count": 7,
   "outputs": [
    {
     "name": "stdout",
     "output_type": "stream",
     "text": [
      "Dataset Livrable 1 - Painting.zip\n",
      "Dataset Livrable 1 - Photo.zip\n",
      "Dataset Livrable 1 - Schematics.zip\n",
      "Dataset Livrable 1 - Sketch.zip\n",
      "Dataset Livrable 1 - Text.zip\n"
     ]
    }
   ],
   "source": [
    "extract_zip(zip_dataset_path, extracted_dataset_path)"
   ],
   "metadata": {
    "collapsed": false,
    "pycharm": {
     "name": "#%%\n"
    }
   }
  },
  {
   "cell_type": "code",
   "execution_count": 8,
   "outputs": [
    {
     "name": "stdout",
     "output_type": "stream",
     "text": [
      "../Dataset/Project_Dataset_Unzip/Painting\n",
      "../Dataset/Project_Dataset_Unzip/Painting/painting_01794.jpg\n",
      "<PIL.GifImagePlugin.GifImageFile image mode=P size=621x754 at 0x1A63F446E88>\n",
      "../Dataset/Project_Dataset_Unzip/Painting/painting_04963.jpg\n",
      "<PIL.PngImagePlugin.PngImageFile image mode=P size=1754x1240 at 0x1A63D6325C8>\n",
      "../Dataset/Project_Dataset_Unzip/Painting/painting_05169.jpg\n",
      "<PIL.PngImagePlugin.PngImageFile image mode=P size=564x794 at 0x1A63F4663C8>\n",
      "../Dataset/Project_Dataset_Unzip/Painting/painting_06433.jpg\n",
      "<PIL.PngImagePlugin.PngImageFile image mode=P size=494x601 at 0x1A63D6325C8>\n",
      "../Dataset/Project_Dataset_Unzip/Painting/painting_06533.jpg\n",
      "<PIL.PngImagePlugin.PngImageFile image mode=RGBA size=549x712 at 0x1A63F463888>\n",
      "../Dataset/Project_Dataset_Unzip/Painting/painting_07549.jpg\n",
      "<PIL.PngImagePlugin.PngImageFile image mode=RGBA size=1256x2328 at 0x1A63F463B48>\n",
      "../Dataset/Project_Dataset_Unzip/Painting/painting_08128.jpg\n",
      "<PIL.PngImagePlugin.PngImageFile image mode=P size=1704x1201 at 0x1A63F45A788>\n",
      "../Dataset/Project_Dataset_Unzip/Painting/painting_08211.jpg\n",
      "<PIL.PngImagePlugin.PngImageFile image mode=RGBA size=387x425 at 0x1A63D716448>\n",
      "../Dataset/Project_Dataset_Unzip/Painting/painting_08502.jpg\n",
      "<PIL.PngImagePlugin.PngImageFile image mode=RGBA size=1779x2683 at 0x1A63D716448>\n",
      "../Dataset/Project_Dataset_Unzip/Painting/painting_09900.jpg\n",
      "<PIL.PngImagePlugin.PngImageFile image mode=RGBA size=1148x1480 at 0x1A63F43F888>\n",
      "../Dataset/Project_Dataset_Unzip/Photo\n",
      "../Dataset/Project_Dataset_Unzip/Schematics\n",
      "../Dataset/Project_Dataset_Unzip/Sketch\n",
      "../Dataset/Project_Dataset_Unzip/Text\n"
     ]
    }
   ],
   "source": [
    "clean_dataset(clean_dataset_path,extracted_dataset_path)"
   ],
   "metadata": {
    "collapsed": false,
    "pycharm": {
     "name": "#%%\n"
    }
   }
  },
  {
   "cell_type": "code",
   "execution_count": 9,
   "outputs": [],
   "source": [
    "dataset_test(light_dataset_path,clean_dataset_path,dataset_size)"
   ],
   "metadata": {
    "collapsed": false,
    "pycharm": {
     "name": "#%%\n"
    }
   }
  },
  {
   "cell_type": "code",
   "execution_count": 27,
   "outputs": [
    {
     "name": "stdout",
     "output_type": "stream",
     "text": [
      "Creating Balanced dataset with 2500 files per class\n",
      "../Dataset/Project_Dataset_Clean/Painting\n",
      "Copy file in ../Dataset_Binary_Project_test/all_pictures\n",
      "Finished copy of : 0 files\n",
      "../Dataset/Project_Dataset_Clean/Photo\n",
      "Skipping class :  Photo\n",
      "../Dataset/Project_Dataset_Clean/Schematics\n",
      "Copy file in ../Dataset_Binary_Project_test/all_pictures\n",
      "Finished copy of : 0 files\n",
      "../Dataset/Project_Dataset_Clean/Sketch\n",
      "Copy file in ../Dataset_Binary_Project_test/all_pictures\n",
      "Finished copy of : 0 files\n",
      "../Dataset/Project_Dataset_Clean/Text\n",
      "Copy file in ../Dataset_Binary_Project_test/all_pictures\n",
      "Finished copy of : 0 files\n",
      "Copy file in ../Dataset_Binary_Project_test/Photo\n",
      "Finished copy of : 0 files\n"
     ]
    }
   ],
   "source": [
    "create_binary_dataset(dataset_to_extract_path,binary_dataset_dir_path,class_to_compare)\n",
    "create_binary_dataset_test(dataset_to_extract_path,binary_dataset_test_path,class_to_compare, balanced=True)"
   ],
   "metadata": {
    "collapsed": false,
    "pycharm": {
     "name": "#%%\n"
    }
   }
  },
  {
   "cell_type": "markdown",
   "source": [
    "#### Livrable 2\n",
    "La fonction ci-dessous nous permet de nettoyer et extraire les données du second jeu de données pour le livrable 2."
   ],
   "metadata": {
    "collapsed": false
   }
  },
  {
   "cell_type": "code",
   "execution_count": 6,
   "outputs": [
    {
     "name": "stdout",
     "output_type": "stream",
     "text": [
      "Dataset Livrable 2.zip\n"
     ]
    }
   ],
   "source": [
    "extract_zip('../DatasetL2/Project_Dataset_Zip/', '../DatasetL2/Project_Dataset_Unzip')"
   ],
   "metadata": {
    "collapsed": false,
    "pycharm": {
     "name": "#%%\n"
    }
   }
  },
  {
   "cell_type": "code",
   "execution_count": 11,
   "outputs": [],
   "source": [
    "#clean_dataset('../DatasetL2/Project_Dataset_Clean','../DatasetL2/Project_Dataset_Unzip')"
   ],
   "metadata": {
    "collapsed": false,
    "pycharm": {
     "name": "#%%\n"
    }
   }
  }
 ],
 "metadata": {
  "kernelspec": {
   "display_name": "Python 3",
   "language": "python",
   "name": "python3"
  },
  "language_info": {
   "codemirror_mode": {
    "name": "ipython",
    "version": 2
   },
   "file_extension": ".py",
   "mimetype": "text/x-python",
   "name": "python",
   "nbconvert_exporter": "python",
   "pygments_lexer": "ipython2",
   "version": "2.7.6"
  }
 },
 "nbformat": 4,
 "nbformat_minor": 0
}